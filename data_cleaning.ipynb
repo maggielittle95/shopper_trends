{
 "cells": [
  {
   "cell_type": "markdown",
   "metadata": {},
   "source": [
    "Prepare data for analysis. This part of the process you are cleaning and staging the data so we can be prepared for a true marketing analysis using SQL. \n",
    "1. Import pandas \n",
    "2. Import random package\n",
    "3. Read existing .csv file\n",
    "4. Perform join statement on shopping_trends.csv and mock_data.csv"
   ]
  },
  {
   "cell_type": "code",
   "execution_count": 1,
   "metadata": {},
   "outputs": [],
   "source": [
    "import pandas as pd\n",
    "import numpy as np\n",
    "import random\n",
    "import sqlite3\n",
    "import sqlalchemy\n"
   ]
  },
  {
   "cell_type": "code",
   "execution_count": 2,
   "metadata": {},
   "outputs": [
    {
     "name": "stdout",
     "output_type": "stream",
     "text": [
      "     customer_id  Age Gender Item_Purchased     Category  Purchase_Amount_USD  \\\n",
      "0              1   55   Male         Blouse     Clothing                   53   \n",
      "1              2   19   Male        Sweater     Clothing                   64   \n",
      "2              3   50   Male          Jeans     Clothing                   73   \n",
      "3              4   21   Male        Sandals     Footwear                   90   \n",
      "4              5   45   Male         Blouse     Clothing                   49   \n",
      "..           ...  ...    ...            ...          ...                  ...   \n",
      "995          996   44   Male        Jewelry  Accessories                   80   \n",
      "996          997   29   Male        Sandals     Footwear                   91   \n",
      "997          998   64   Male          Pants     Clothing                   30   \n",
      "998          999   51   Male          Shoes     Footwear                   90   \n",
      "999         1000   50   Male          Socks     Clothing                   28   \n",
      "\n",
      "          Location Size      Color  Season  ...  first_name       last_name  \\\n",
      "0         Kentucky    L       Gray  Winter  ...       Remus         Tamplin   \n",
      "1            Maine    L     Maroon  Winter  ...      Hillie             Yes   \n",
      "2    Massachusetts    S     Maroon  Spring  ...    Aridatha      Robertelli   \n",
      "3     Rhode Island    M     Maroon  Spring  ...      Cordie          Illing   \n",
      "4           Oregon    M  Turquoise  Spring  ...      Gannie         McKaile   \n",
      "..             ...  ...        ...     ...  ...         ...             ...   \n",
      "995          Idaho    M    Magenta  Spring  ...         May      Brightwell   \n",
      "996       Delaware    L     Maroon  Summer  ...      Cullin           Maier   \n",
      "997       Kentucky    M       Cyan  Spring  ...      Benita  Christoffersen   \n",
      "998    Connecticut    M      White  Spring  ...    Lynnette         Tomanek   \n",
      "999     New Mexico    L      Brown  Spring  ...    Sergeant        Huckster   \n",
      "\n",
      "        tiktok_campaign tiktok_cpa tiktok_conversion tiktok_dates  \\\n",
      "0         cross product     $5.07              False      7/18/22   \n",
      "1    frequency purchase     $0.31              False       6/7/22   \n",
      "2    frequency purchase     $3.88              False     10/16/22   \n",
      "3         we missed you     $5.57               True       7/4/22   \n",
      "4    frequency purchase     $0.76               True      6/24/22   \n",
      "..                  ...        ...               ...          ...   \n",
      "995             welcome     $6.95              False      6/16/22   \n",
      "996      product launch     $6.98              False       9/2/22   \n",
      "997      abandoned cart     $6.79               True      5/30/22   \n",
      "998  frequency purchase     $1.97              False      7/20/22   \n",
      "999  frequency purchase     $2.27              False       6/2/22   \n",
      "\n",
      "         email_campaign email_cpa email_conversion email_dates  \n",
      "0        abandoned cart    $3.00              True    10/29/22  \n",
      "1               welcome    $6.14              True     5/24/22  \n",
      "2         cross product    $8.11              True      8/1/22  \n",
      "3               welcome    $7.44              True     1/12/22  \n",
      "4               welcome    $7.29             False     1/29/22  \n",
      "..                  ...       ...              ...         ...  \n",
      "995             welcome    $7.14             False      7/4/22  \n",
      "996      abandoned cart    $6.55             False     3/21/22  \n",
      "997      abandoned cart    $4.39              True      1/4/22  \n",
      "998  frequency purchase    $9.49              True      5/2/22  \n",
      "999             welcome    $6.57             False      8/2/22  \n",
      "\n",
      "[1000 rows x 29 columns]\n"
     ]
    }
   ],
   "source": [
    "# Read the two CSV files into DataFrames\n",
    "shopping_trends = pd.read_csv('shopping_trends.csv')\n",
    "shopping_trends_column_names = [\"customer_id\",\"Age\",\"Gender\",\"Item_Purchased\",\"Category\",\"Purchase_Amount_USD\",\"Location\",\"Size\",\"Color\",\"Season\",\"Review_Rating\",\"Subscription_Status\",\"Payment_Method\",\"Shipping_Type\",\"Discount_Applied\",\"Promo_Code_Used\",\"Previous_Purchases\",\"Preferred_Payment_Method\",\"Frequency_of_Purchases\"]\n",
    "shopping_trends.columns= shopping_trends_column_names\n",
    "mock_data = pd.read_csv('MOCK_DATA_1.csv')\n",
    "\n",
    "\n",
    "# Merge the DataFrames on the 'Customer_ID' column\n",
    "merged_data = shopping_trends.merge(mock_data, on='customer_id')\n",
    "print(merged_data)"
   ]
  },
  {
   "cell_type": "markdown",
   "metadata": {
    "vscode": {
     "languageId": "sql"
    }
   },
   "source": [
    "1. Now you need to write these files to a database. \n",
    "2. It is a best practice to write to a database vs. storing in your memory.\n",
    "3. Your database will need to be able to run queries from the 2 marketing tables"
   ]
  },
  {
   "cell_type": "code",
   "execution_count": 3,
   "metadata": {},
   "outputs": [
    {
     "data": {
      "text/plain": [
       "1000"
      ]
     },
     "execution_count": 3,
     "metadata": {},
     "output_type": "execute_result"
    }
   ],
   "source": [
    "# Connect to the Database\n",
    "conn = sqlite3.connect('cl_shopper_trends.db')\n",
    "merged_data.to_sql('merged_data', conn, if_exists='replace', index=False)"
   ]
  },
  {
   "cell_type": "markdown",
   "metadata": {},
   "source": [
    "1. You already performed one data cleaning task by renaming column header descriptions with underscores instead of spaces.\n",
    "2. After glancing over the 3 files you noticed there are some duplicate descriptions for the Frequency_of_Purchases column in the merged_data file, change: \"Fortnightly\" to \"Biweekly\" and \"Every 3 months\" to \"Quarterly\""
   ]
  },
  {
   "cell_type": "code",
   "execution_count": 4,
   "metadata": {},
   "outputs": [
    {
     "name": "stdout",
     "output_type": "stream",
     "text": [
      "0      Bi-Weekly\n",
      "1      Bi-Weekly\n",
      "2         Weekly\n",
      "3         Weekly\n",
      "4       Annually\n",
      "         ...    \n",
      "995       Weekly\n",
      "996    Quarterly\n",
      "997    Bi-Weekly\n",
      "998    Bi-Weekly\n",
      "999      Monthly\n",
      "Name: Frequency_of_Purchases, Length: 1000, dtype: object\n"
     ]
    }
   ],
   "source": [
    "#Data Cleaning Number 2- deduplicate Frequency of Purchase Descriptions by passing through an updated dictionary\n",
    "replace_duplicates = {'Fortnightly': 'Bi-Weekly', 'Every 3 Months': 'Quarterly'}\n",
    "merged_data['Frequency_of_Purchases'] = merged_data['Frequency_of_Purchases'].replace(replace_duplicates)\n",
    "\n",
    "print(merged_data['Frequency_of_Purchases'])"
   ]
  },
  {
   "cell_type": "markdown",
   "metadata": {},
   "source": [
    "It looks like you don't have any values for First Purchase and Last Purchase, which will be critical to calculating Customer Lifetime Value and Loyalty. You will need to add these columns using Pandas."
   ]
  },
  {
   "cell_type": "markdown",
   "metadata": {},
   "source": [
    "    A. Customer Value is calculated using: Average Order Value divided by Average Number of Purchases. You will run this calculation in SQL. \n",
    "    B. Customer Lifetime Value is calculated: (Customer Value) * (Average Customer Lifespan)\n",
    "    C. Average Customer Lifespan calculation: average time between first purchase order and last purchase order."
   ]
  },
  {
   "cell_type": "code",
   "execution_count": 5,
   "metadata": {},
   "outputs": [],
   "source": [
    "import pandas as pd\n",
    "import random\n",
    "from datetime import datetime, timedelta"
   ]
  },
  {
   "cell_type": "code",
   "execution_count": 6,
   "metadata": {},
   "outputs": [],
   "source": [
    "#Create variable start date \n",
    "start_date = datetime(2020, 1, 1)\n",
    "#Create variable end date \n",
    "end_date = datetime(2023, 12, 31)"
   ]
  },
  {
   "cell_type": "code",
   "execution_count": 7,
   "metadata": {},
   "outputs": [],
   "source": [
    "#Create two variables to calculate time between customer start_date and customer end_date. The days between these two values will need to be divided in half so the customer end_date (or last_purchase) date is not before the customer start_date.\n",
    "delta = end_date - start_date\n",
    "alpha = delta/2\n"
   ]
  },
  {
   "cell_type": "code",
   "execution_count": 8,
   "metadata": {},
   "outputs": [
    {
     "name": "stdout",
     "output_type": "stream",
     "text": [
      "[datetime.datetime(2021, 9, 29, 0, 0), datetime.datetime(2020, 6, 10, 0, 0), datetime.datetime(2021, 6, 12, 0, 0), datetime.datetime(2020, 11, 18, 0, 0), datetime.datetime(2020, 12, 31, 0, 0), datetime.datetime(2021, 2, 12, 0, 0), datetime.datetime(2021, 4, 12, 0, 0), datetime.datetime(2021, 6, 18, 0, 0), datetime.datetime(2021, 11, 29, 0, 0), datetime.datetime(2021, 5, 15, 0, 0), datetime.datetime(2021, 1, 29, 0, 0), datetime.datetime(2021, 11, 9, 0, 0), datetime.datetime(2020, 9, 23, 0, 0), datetime.datetime(2021, 12, 19, 0, 0), datetime.datetime(2021, 1, 30, 0, 0), datetime.datetime(2021, 12, 3, 0, 0), datetime.datetime(2021, 2, 15, 0, 0), datetime.datetime(2021, 2, 2, 0, 0), datetime.datetime(2021, 7, 5, 0, 0), datetime.datetime(2021, 7, 31, 0, 0), datetime.datetime(2021, 6, 25, 0, 0), datetime.datetime(2021, 12, 19, 0, 0), datetime.datetime(2021, 10, 18, 0, 0), datetime.datetime(2020, 11, 9, 0, 0), datetime.datetime(2020, 9, 10, 0, 0), datetime.datetime(2021, 10, 8, 0, 0), datetime.datetime(2020, 10, 11, 0, 0), datetime.datetime(2021, 2, 5, 0, 0), datetime.datetime(2021, 1, 5, 0, 0), datetime.datetime(2020, 7, 4, 0, 0), datetime.datetime(2021, 5, 2, 0, 0), datetime.datetime(2020, 3, 12, 0, 0), datetime.datetime(2021, 3, 5, 0, 0), datetime.datetime(2020, 10, 17, 0, 0), datetime.datetime(2021, 1, 20, 0, 0), datetime.datetime(2020, 4, 11, 0, 0), datetime.datetime(2020, 2, 12, 0, 0), datetime.datetime(2020, 12, 23, 0, 0), datetime.datetime(2020, 6, 1, 0, 0), datetime.datetime(2020, 5, 31, 0, 0), datetime.datetime(2020, 7, 6, 0, 0), datetime.datetime(2020, 6, 11, 0, 0), datetime.datetime(2021, 3, 28, 0, 0), datetime.datetime(2020, 7, 15, 0, 0), datetime.datetime(2021, 5, 8, 0, 0), datetime.datetime(2021, 1, 3, 0, 0), datetime.datetime(2021, 3, 27, 0, 0), datetime.datetime(2020, 5, 12, 0, 0), datetime.datetime(2020, 7, 6, 0, 0), datetime.datetime(2020, 8, 10, 0, 0), datetime.datetime(2021, 2, 14, 0, 0), datetime.datetime(2020, 5, 7, 0, 0), datetime.datetime(2020, 8, 6, 0, 0), datetime.datetime(2021, 4, 28, 0, 0), datetime.datetime(2021, 3, 14, 0, 0), datetime.datetime(2021, 11, 24, 0, 0), datetime.datetime(2021, 3, 11, 0, 0), datetime.datetime(2020, 12, 19, 0, 0), datetime.datetime(2021, 5, 13, 0, 0), datetime.datetime(2021, 10, 7, 0, 0), datetime.datetime(2020, 2, 12, 0, 0), datetime.datetime(2021, 1, 31, 0, 0), datetime.datetime(2021, 4, 8, 0, 0), datetime.datetime(2021, 12, 29, 0, 0), datetime.datetime(2021, 7, 22, 0, 0), datetime.datetime(2021, 12, 13, 0, 0), datetime.datetime(2020, 11, 23, 0, 0), datetime.datetime(2021, 11, 13, 0, 0), datetime.datetime(2020, 9, 30, 0, 0), datetime.datetime(2021, 7, 21, 0, 0), datetime.datetime(2020, 8, 24, 0, 0), datetime.datetime(2020, 1, 24, 0, 0), datetime.datetime(2021, 6, 8, 0, 0), datetime.datetime(2020, 10, 26, 0, 0), datetime.datetime(2020, 3, 30, 0, 0), datetime.datetime(2021, 1, 24, 0, 0), datetime.datetime(2021, 2, 4, 0, 0), datetime.datetime(2020, 9, 3, 0, 0), datetime.datetime(2020, 12, 10, 0, 0), datetime.datetime(2021, 5, 21, 0, 0), datetime.datetime(2021, 11, 4, 0, 0), datetime.datetime(2020, 2, 9, 0, 0), datetime.datetime(2020, 6, 14, 0, 0), datetime.datetime(2021, 5, 29, 0, 0), datetime.datetime(2021, 9, 10, 0, 0), datetime.datetime(2021, 8, 28, 0, 0), datetime.datetime(2020, 6, 7, 0, 0), datetime.datetime(2020, 2, 12, 0, 0), datetime.datetime(2020, 7, 29, 0, 0), datetime.datetime(2020, 7, 4, 0, 0), datetime.datetime(2020, 8, 15, 0, 0), datetime.datetime(2021, 2, 11, 0, 0), datetime.datetime(2020, 9, 7, 0, 0), datetime.datetime(2021, 2, 8, 0, 0), datetime.datetime(2021, 7, 26, 0, 0), datetime.datetime(2021, 9, 19, 0, 0), datetime.datetime(2020, 7, 12, 0, 0), datetime.datetime(2020, 7, 16, 0, 0), datetime.datetime(2021, 9, 4, 0, 0), datetime.datetime(2021, 3, 31, 0, 0), datetime.datetime(2020, 11, 3, 0, 0), datetime.datetime(2020, 3, 17, 0, 0), datetime.datetime(2020, 9, 29, 0, 0), datetime.datetime(2020, 11, 19, 0, 0), datetime.datetime(2020, 3, 24, 0, 0), datetime.datetime(2020, 9, 18, 0, 0), datetime.datetime(2020, 9, 8, 0, 0), datetime.datetime(2021, 3, 30, 0, 0), datetime.datetime(2020, 3, 15, 0, 0), datetime.datetime(2021, 2, 7, 0, 0), datetime.datetime(2021, 10, 13, 0, 0), datetime.datetime(2020, 5, 27, 0, 0), datetime.datetime(2020, 8, 27, 0, 0), datetime.datetime(2020, 6, 4, 0, 0), datetime.datetime(2021, 4, 22, 0, 0), datetime.datetime(2021, 5, 12, 0, 0), datetime.datetime(2021, 8, 10, 0, 0), datetime.datetime(2020, 4, 26, 0, 0), datetime.datetime(2020, 6, 5, 0, 0), datetime.datetime(2021, 4, 9, 0, 0), datetime.datetime(2020, 11, 9, 0, 0), datetime.datetime(2020, 1, 5, 0, 0), datetime.datetime(2021, 3, 5, 0, 0), datetime.datetime(2020, 1, 27, 0, 0), datetime.datetime(2021, 7, 22, 0, 0), datetime.datetime(2020, 11, 13, 0, 0), datetime.datetime(2021, 8, 31, 0, 0), datetime.datetime(2020, 2, 10, 0, 0), datetime.datetime(2021, 3, 31, 0, 0), datetime.datetime(2021, 5, 21, 0, 0), datetime.datetime(2020, 9, 3, 0, 0), datetime.datetime(2020, 3, 24, 0, 0), datetime.datetime(2020, 12, 18, 0, 0), datetime.datetime(2020, 8, 12, 0, 0), datetime.datetime(2021, 11, 4, 0, 0), datetime.datetime(2021, 3, 17, 0, 0), datetime.datetime(2021, 4, 23, 0, 0), datetime.datetime(2021, 6, 6, 0, 0), datetime.datetime(2020, 2, 14, 0, 0), datetime.datetime(2020, 12, 11, 0, 0), datetime.datetime(2021, 5, 25, 0, 0), datetime.datetime(2021, 3, 20, 0, 0), datetime.datetime(2021, 11, 13, 0, 0), datetime.datetime(2020, 3, 14, 0, 0), datetime.datetime(2021, 5, 19, 0, 0), datetime.datetime(2020, 10, 27, 0, 0), datetime.datetime(2020, 3, 16, 0, 0), datetime.datetime(2021, 8, 6, 0, 0), datetime.datetime(2021, 1, 14, 0, 0), datetime.datetime(2020, 6, 4, 0, 0), datetime.datetime(2020, 3, 4, 0, 0), datetime.datetime(2020, 6, 1, 0, 0), datetime.datetime(2021, 2, 17, 0, 0), datetime.datetime(2021, 8, 14, 0, 0), datetime.datetime(2020, 1, 15, 0, 0), datetime.datetime(2020, 6, 6, 0, 0), datetime.datetime(2020, 3, 14, 0, 0), datetime.datetime(2021, 8, 14, 0, 0), datetime.datetime(2021, 4, 26, 0, 0), datetime.datetime(2021, 8, 12, 0, 0), datetime.datetime(2020, 12, 30, 0, 0), datetime.datetime(2020, 2, 6, 0, 0), datetime.datetime(2020, 3, 1, 0, 0), datetime.datetime(2020, 4, 4, 0, 0), datetime.datetime(2020, 4, 15, 0, 0), datetime.datetime(2021, 6, 11, 0, 0), datetime.datetime(2020, 2, 21, 0, 0), datetime.datetime(2020, 2, 26, 0, 0), datetime.datetime(2021, 8, 5, 0, 0), datetime.datetime(2020, 7, 9, 0, 0), datetime.datetime(2020, 4, 10, 0, 0), datetime.datetime(2021, 5, 4, 0, 0), datetime.datetime(2020, 3, 6, 0, 0), datetime.datetime(2021, 9, 16, 0, 0), datetime.datetime(2021, 3, 28, 0, 0), datetime.datetime(2021, 7, 9, 0, 0), datetime.datetime(2021, 12, 6, 0, 0), datetime.datetime(2020, 4, 20, 0, 0), datetime.datetime(2021, 12, 8, 0, 0), datetime.datetime(2020, 10, 21, 0, 0), datetime.datetime(2020, 1, 25, 0, 0), datetime.datetime(2021, 6, 25, 0, 0), datetime.datetime(2020, 6, 4, 0, 0), datetime.datetime(2020, 10, 1, 0, 0), datetime.datetime(2021, 12, 14, 0, 0), datetime.datetime(2020, 7, 22, 0, 0), datetime.datetime(2020, 10, 29, 0, 0), datetime.datetime(2020, 7, 6, 0, 0), datetime.datetime(2021, 11, 11, 0, 0), datetime.datetime(2020, 6, 14, 0, 0), datetime.datetime(2021, 3, 14, 0, 0), datetime.datetime(2020, 9, 15, 0, 0), datetime.datetime(2021, 9, 24, 0, 0), datetime.datetime(2020, 9, 25, 0, 0), datetime.datetime(2021, 11, 27, 0, 0), datetime.datetime(2020, 3, 17, 0, 0), datetime.datetime(2021, 8, 28, 0, 0), datetime.datetime(2021, 8, 18, 0, 0), datetime.datetime(2021, 9, 8, 0, 0), datetime.datetime(2021, 11, 24, 0, 0), datetime.datetime(2021, 3, 9, 0, 0), datetime.datetime(2020, 8, 13, 0, 0), datetime.datetime(2021, 2, 15, 0, 0), datetime.datetime(2020, 2, 12, 0, 0), datetime.datetime(2021, 6, 9, 0, 0), datetime.datetime(2020, 11, 27, 0, 0), datetime.datetime(2021, 9, 25, 0, 0), datetime.datetime(2020, 11, 28, 0, 0), datetime.datetime(2020, 8, 14, 0, 0), datetime.datetime(2020, 12, 1, 0, 0), datetime.datetime(2021, 1, 16, 0, 0), datetime.datetime(2020, 6, 28, 0, 0), datetime.datetime(2020, 9, 22, 0, 0), datetime.datetime(2020, 9, 13, 0, 0), datetime.datetime(2020, 3, 7, 0, 0), datetime.datetime(2020, 11, 7, 0, 0), datetime.datetime(2021, 3, 18, 0, 0), datetime.datetime(2020, 7, 31, 0, 0), datetime.datetime(2021, 3, 7, 0, 0), datetime.datetime(2020, 8, 14, 0, 0), datetime.datetime(2021, 5, 1, 0, 0), datetime.datetime(2020, 9, 1, 0, 0), datetime.datetime(2020, 6, 25, 0, 0), datetime.datetime(2021, 5, 8, 0, 0), datetime.datetime(2021, 11, 2, 0, 0), datetime.datetime(2021, 4, 24, 0, 0), datetime.datetime(2021, 11, 30, 0, 0), datetime.datetime(2021, 3, 16, 0, 0), datetime.datetime(2021, 3, 24, 0, 0), datetime.datetime(2021, 3, 31, 0, 0), datetime.datetime(2021, 4, 26, 0, 0), datetime.datetime(2021, 1, 26, 0, 0), datetime.datetime(2021, 11, 15, 0, 0), datetime.datetime(2020, 3, 10, 0, 0), datetime.datetime(2020, 6, 1, 0, 0), datetime.datetime(2020, 3, 6, 0, 0), datetime.datetime(2020, 11, 19, 0, 0), datetime.datetime(2020, 10, 1, 0, 0), datetime.datetime(2021, 6, 16, 0, 0), datetime.datetime(2021, 8, 24, 0, 0), datetime.datetime(2021, 7, 3, 0, 0), datetime.datetime(2021, 5, 18, 0, 0), datetime.datetime(2021, 10, 26, 0, 0), datetime.datetime(2020, 12, 3, 0, 0), datetime.datetime(2020, 10, 23, 0, 0), datetime.datetime(2020, 12, 3, 0, 0), datetime.datetime(2021, 2, 3, 0, 0), datetime.datetime(2020, 4, 21, 0, 0), datetime.datetime(2020, 1, 27, 0, 0), datetime.datetime(2020, 7, 4, 0, 0), datetime.datetime(2021, 1, 22, 0, 0), datetime.datetime(2020, 9, 1, 0, 0), datetime.datetime(2021, 1, 1, 0, 0), datetime.datetime(2021, 11, 8, 0, 0), datetime.datetime(2020, 4, 30, 0, 0), datetime.datetime(2021, 4, 26, 0, 0), datetime.datetime(2020, 8, 8, 0, 0), datetime.datetime(2020, 8, 2, 0, 0), datetime.datetime(2020, 12, 2, 0, 0), datetime.datetime(2020, 9, 11, 0, 0), datetime.datetime(2020, 11, 5, 0, 0), datetime.datetime(2020, 9, 23, 0, 0), datetime.datetime(2020, 7, 24, 0, 0), datetime.datetime(2021, 9, 15, 0, 0), datetime.datetime(2021, 9, 21, 0, 0), datetime.datetime(2021, 2, 14, 0, 0), datetime.datetime(2020, 3, 15, 0, 0), datetime.datetime(2020, 12, 24, 0, 0), datetime.datetime(2021, 12, 1, 0, 0), datetime.datetime(2021, 10, 12, 0, 0), datetime.datetime(2021, 7, 19, 0, 0), datetime.datetime(2021, 3, 7, 0, 0), datetime.datetime(2021, 4, 27, 0, 0), datetime.datetime(2020, 5, 16, 0, 0), datetime.datetime(2021, 11, 16, 0, 0), datetime.datetime(2020, 10, 18, 0, 0), datetime.datetime(2021, 10, 30, 0, 0), datetime.datetime(2020, 2, 17, 0, 0), datetime.datetime(2021, 12, 27, 0, 0), datetime.datetime(2020, 4, 12, 0, 0), datetime.datetime(2021, 8, 30, 0, 0), datetime.datetime(2020, 12, 26, 0, 0), datetime.datetime(2020, 11, 9, 0, 0), datetime.datetime(2021, 12, 19, 0, 0), datetime.datetime(2020, 12, 14, 0, 0), datetime.datetime(2020, 3, 26, 0, 0), datetime.datetime(2021, 2, 17, 0, 0), datetime.datetime(2020, 3, 26, 0, 0), datetime.datetime(2020, 7, 10, 0, 0), datetime.datetime(2021, 8, 11, 0, 0), datetime.datetime(2021, 10, 18, 0, 0), datetime.datetime(2021, 8, 9, 0, 0), datetime.datetime(2021, 8, 12, 0, 0), datetime.datetime(2020, 6, 18, 0, 0), datetime.datetime(2020, 7, 15, 0, 0), datetime.datetime(2020, 11, 14, 0, 0), datetime.datetime(2021, 10, 6, 0, 0), datetime.datetime(2020, 8, 12, 0, 0), datetime.datetime(2020, 12, 3, 0, 0), datetime.datetime(2021, 12, 30, 0, 0), datetime.datetime(2020, 4, 6, 0, 0), datetime.datetime(2020, 11, 3, 0, 0), datetime.datetime(2020, 8, 7, 0, 0), datetime.datetime(2021, 5, 18, 0, 0), datetime.datetime(2021, 5, 18, 0, 0), datetime.datetime(2020, 8, 16, 0, 0), datetime.datetime(2020, 2, 4, 0, 0), datetime.datetime(2020, 7, 9, 0, 0), datetime.datetime(2021, 6, 27, 0, 0), datetime.datetime(2021, 5, 8, 0, 0), datetime.datetime(2021, 11, 11, 0, 0), datetime.datetime(2021, 2, 28, 0, 0), datetime.datetime(2021, 6, 16, 0, 0), datetime.datetime(2020, 6, 14, 0, 0), datetime.datetime(2020, 4, 8, 0, 0), datetime.datetime(2020, 8, 5, 0, 0), datetime.datetime(2021, 5, 2, 0, 0), datetime.datetime(2021, 8, 7, 0, 0), datetime.datetime(2021, 1, 29, 0, 0), datetime.datetime(2020, 7, 18, 0, 0), datetime.datetime(2021, 11, 6, 0, 0), datetime.datetime(2020, 6, 1, 0, 0), datetime.datetime(2020, 2, 27, 0, 0), datetime.datetime(2021, 5, 28, 0, 0), datetime.datetime(2021, 7, 13, 0, 0), datetime.datetime(2021, 12, 22, 0, 0), datetime.datetime(2021, 1, 1, 0, 0), datetime.datetime(2020, 7, 26, 0, 0), datetime.datetime(2020, 1, 22, 0, 0), datetime.datetime(2021, 10, 10, 0, 0), datetime.datetime(2021, 12, 23, 0, 0), datetime.datetime(2021, 4, 25, 0, 0), datetime.datetime(2021, 12, 22, 0, 0), datetime.datetime(2021, 6, 25, 0, 0), datetime.datetime(2020, 7, 26, 0, 0), datetime.datetime(2020, 10, 21, 0, 0), datetime.datetime(2021, 3, 13, 0, 0), datetime.datetime(2020, 10, 8, 0, 0), datetime.datetime(2020, 7, 15, 0, 0), datetime.datetime(2021, 8, 31, 0, 0), datetime.datetime(2020, 2, 25, 0, 0), datetime.datetime(2021, 8, 20, 0, 0), datetime.datetime(2020, 5, 24, 0, 0), datetime.datetime(2021, 12, 17, 0, 0), datetime.datetime(2020, 1, 6, 0, 0), datetime.datetime(2020, 12, 11, 0, 0), datetime.datetime(2021, 12, 4, 0, 0), datetime.datetime(2021, 6, 26, 0, 0), datetime.datetime(2020, 3, 19, 0, 0), datetime.datetime(2020, 4, 6, 0, 0), datetime.datetime(2021, 10, 5, 0, 0), datetime.datetime(2020, 11, 4, 0, 0), datetime.datetime(2020, 11, 2, 0, 0), datetime.datetime(2021, 1, 17, 0, 0), datetime.datetime(2021, 6, 8, 0, 0), datetime.datetime(2020, 6, 27, 0, 0), datetime.datetime(2021, 5, 31, 0, 0), datetime.datetime(2021, 7, 13, 0, 0), datetime.datetime(2020, 1, 18, 0, 0), datetime.datetime(2021, 3, 3, 0, 0), datetime.datetime(2021, 12, 6, 0, 0), datetime.datetime(2020, 1, 18, 0, 0), datetime.datetime(2021, 10, 21, 0, 0), datetime.datetime(2021, 1, 2, 0, 0), datetime.datetime(2020, 8, 14, 0, 0), datetime.datetime(2020, 10, 6, 0, 0), datetime.datetime(2021, 8, 15, 0, 0), datetime.datetime(2021, 9, 20, 0, 0), datetime.datetime(2020, 7, 31, 0, 0), datetime.datetime(2021, 7, 13, 0, 0), datetime.datetime(2020, 9, 5, 0, 0), datetime.datetime(2021, 1, 29, 0, 0), datetime.datetime(2021, 6, 21, 0, 0), datetime.datetime(2021, 4, 16, 0, 0), datetime.datetime(2021, 7, 13, 0, 0), datetime.datetime(2021, 10, 2, 0, 0), datetime.datetime(2020, 3, 18, 0, 0), datetime.datetime(2021, 5, 20, 0, 0), datetime.datetime(2020, 11, 28, 0, 0), datetime.datetime(2020, 4, 3, 0, 0), datetime.datetime(2021, 1, 3, 0, 0), datetime.datetime(2020, 1, 30, 0, 0), datetime.datetime(2020, 6, 6, 0, 0), datetime.datetime(2020, 4, 23, 0, 0), datetime.datetime(2020, 7, 23, 0, 0), datetime.datetime(2020, 12, 13, 0, 0), datetime.datetime(2021, 11, 8, 0, 0), datetime.datetime(2020, 10, 2, 0, 0), datetime.datetime(2020, 11, 8, 0, 0), datetime.datetime(2021, 11, 26, 0, 0), datetime.datetime(2020, 11, 23, 0, 0), datetime.datetime(2021, 5, 3, 0, 0), datetime.datetime(2021, 4, 6, 0, 0), datetime.datetime(2020, 12, 3, 0, 0), datetime.datetime(2021, 7, 22, 0, 0), datetime.datetime(2021, 2, 28, 0, 0), datetime.datetime(2021, 1, 14, 0, 0), datetime.datetime(2020, 6, 6, 0, 0), datetime.datetime(2021, 1, 23, 0, 0), datetime.datetime(2020, 10, 30, 0, 0), datetime.datetime(2021, 1, 17, 0, 0), datetime.datetime(2020, 11, 30, 0, 0), datetime.datetime(2020, 4, 6, 0, 0), datetime.datetime(2020, 4, 4, 0, 0), datetime.datetime(2020, 12, 30, 0, 0), datetime.datetime(2020, 3, 24, 0, 0), datetime.datetime(2021, 10, 30, 0, 0), datetime.datetime(2020, 12, 2, 0, 0), datetime.datetime(2020, 12, 21, 0, 0), datetime.datetime(2020, 6, 16, 0, 0), datetime.datetime(2021, 9, 9, 0, 0), datetime.datetime(2021, 12, 16, 0, 0), datetime.datetime(2020, 8, 29, 0, 0), datetime.datetime(2021, 2, 8, 0, 0), datetime.datetime(2020, 8, 24, 0, 0), datetime.datetime(2021, 9, 9, 0, 0), datetime.datetime(2020, 5, 8, 0, 0), datetime.datetime(2021, 12, 30, 0, 0), datetime.datetime(2020, 5, 10, 0, 0), datetime.datetime(2021, 12, 14, 0, 0), datetime.datetime(2020, 8, 5, 0, 0), datetime.datetime(2020, 5, 1, 0, 0), datetime.datetime(2021, 6, 10, 0, 0), datetime.datetime(2020, 12, 1, 0, 0), datetime.datetime(2021, 5, 11, 0, 0), datetime.datetime(2021, 1, 11, 0, 0), datetime.datetime(2021, 8, 29, 0, 0), datetime.datetime(2021, 4, 15, 0, 0), datetime.datetime(2020, 9, 24, 0, 0), datetime.datetime(2020, 4, 6, 0, 0), datetime.datetime(2020, 10, 7, 0, 0), datetime.datetime(2020, 3, 19, 0, 0), datetime.datetime(2020, 2, 1, 0, 0), datetime.datetime(2021, 1, 5, 0, 0), datetime.datetime(2020, 3, 24, 0, 0), datetime.datetime(2020, 4, 21, 0, 0), datetime.datetime(2020, 9, 17, 0, 0), datetime.datetime(2020, 6, 4, 0, 0), datetime.datetime(2020, 4, 20, 0, 0), datetime.datetime(2021, 4, 2, 0, 0), datetime.datetime(2021, 11, 17, 0, 0), datetime.datetime(2021, 5, 25, 0, 0), datetime.datetime(2020, 7, 31, 0, 0), datetime.datetime(2020, 9, 12, 0, 0), datetime.datetime(2020, 11, 22, 0, 0), datetime.datetime(2020, 1, 24, 0, 0), datetime.datetime(2021, 6, 30, 0, 0), datetime.datetime(2021, 6, 13, 0, 0), datetime.datetime(2020, 12, 7, 0, 0), datetime.datetime(2021, 5, 24, 0, 0), datetime.datetime(2020, 7, 31, 0, 0), datetime.datetime(2020, 1, 14, 0, 0), datetime.datetime(2020, 9, 11, 0, 0), datetime.datetime(2021, 12, 8, 0, 0), datetime.datetime(2020, 5, 20, 0, 0), datetime.datetime(2021, 8, 3, 0, 0), datetime.datetime(2021, 1, 26, 0, 0), datetime.datetime(2021, 6, 16, 0, 0), datetime.datetime(2021, 4, 25, 0, 0), datetime.datetime(2020, 7, 11, 0, 0), datetime.datetime(2021, 3, 13, 0, 0), datetime.datetime(2020, 2, 2, 0, 0), datetime.datetime(2020, 7, 18, 0, 0), datetime.datetime(2021, 5, 15, 0, 0), datetime.datetime(2020, 6, 28, 0, 0), datetime.datetime(2021, 5, 2, 0, 0), datetime.datetime(2020, 1, 25, 0, 0), datetime.datetime(2021, 8, 10, 0, 0), datetime.datetime(2021, 11, 22, 0, 0), datetime.datetime(2020, 1, 15, 0, 0), datetime.datetime(2021, 12, 28, 0, 0), datetime.datetime(2020, 9, 6, 0, 0), datetime.datetime(2020, 3, 12, 0, 0), datetime.datetime(2021, 5, 12, 0, 0), datetime.datetime(2021, 9, 24, 0, 0), datetime.datetime(2020, 6, 27, 0, 0), datetime.datetime(2021, 12, 10, 0, 0), datetime.datetime(2021, 9, 19, 0, 0), datetime.datetime(2020, 11, 14, 0, 0), datetime.datetime(2021, 9, 1, 0, 0), datetime.datetime(2020, 8, 30, 0, 0), datetime.datetime(2021, 5, 6, 0, 0), datetime.datetime(2021, 10, 8, 0, 0), datetime.datetime(2020, 2, 23, 0, 0), datetime.datetime(2020, 3, 28, 0, 0), datetime.datetime(2021, 1, 3, 0, 0), datetime.datetime(2020, 8, 1, 0, 0), datetime.datetime(2021, 5, 27, 0, 0), datetime.datetime(2020, 10, 9, 0, 0), datetime.datetime(2020, 10, 20, 0, 0), datetime.datetime(2020, 6, 10, 0, 0), datetime.datetime(2020, 11, 24, 0, 0), datetime.datetime(2021, 3, 17, 0, 0), datetime.datetime(2021, 11, 25, 0, 0), datetime.datetime(2020, 1, 9, 0, 0), datetime.datetime(2020, 5, 24, 0, 0), datetime.datetime(2020, 7, 31, 0, 0), datetime.datetime(2021, 7, 25, 0, 0), datetime.datetime(2020, 3, 24, 0, 0), datetime.datetime(2021, 3, 8, 0, 0), datetime.datetime(2021, 1, 2, 0, 0), datetime.datetime(2021, 8, 7, 0, 0), datetime.datetime(2020, 3, 7, 0, 0), datetime.datetime(2020, 8, 1, 0, 0), datetime.datetime(2020, 1, 15, 0, 0), datetime.datetime(2021, 7, 1, 0, 0), datetime.datetime(2021, 6, 13, 0, 0), datetime.datetime(2021, 6, 17, 0, 0), datetime.datetime(2021, 6, 14, 0, 0), datetime.datetime(2021, 2, 26, 0, 0), datetime.datetime(2020, 1, 4, 0, 0), datetime.datetime(2021, 1, 29, 0, 0), datetime.datetime(2020, 6, 2, 0, 0), datetime.datetime(2020, 10, 2, 0, 0), datetime.datetime(2020, 1, 28, 0, 0), datetime.datetime(2021, 1, 27, 0, 0), datetime.datetime(2020, 11, 10, 0, 0), datetime.datetime(2020, 8, 10, 0, 0), datetime.datetime(2021, 4, 18, 0, 0), datetime.datetime(2021, 11, 19, 0, 0), datetime.datetime(2020, 9, 24, 0, 0), datetime.datetime(2020, 1, 11, 0, 0), datetime.datetime(2021, 1, 15, 0, 0), datetime.datetime(2020, 9, 13, 0, 0), datetime.datetime(2021, 5, 3, 0, 0), datetime.datetime(2020, 11, 14, 0, 0), datetime.datetime(2020, 9, 25, 0, 0), datetime.datetime(2021, 2, 18, 0, 0), datetime.datetime(2020, 1, 11, 0, 0), datetime.datetime(2021, 12, 18, 0, 0), datetime.datetime(2021, 3, 10, 0, 0), datetime.datetime(2021, 2, 6, 0, 0), datetime.datetime(2020, 5, 10, 0, 0), datetime.datetime(2021, 9, 20, 0, 0), datetime.datetime(2020, 12, 26, 0, 0), datetime.datetime(2021, 4, 9, 0, 0), datetime.datetime(2021, 3, 16, 0, 0), datetime.datetime(2020, 7, 17, 0, 0), datetime.datetime(2020, 9, 2, 0, 0), datetime.datetime(2020, 11, 14, 0, 0), datetime.datetime(2021, 6, 2, 0, 0), datetime.datetime(2020, 2, 4, 0, 0), datetime.datetime(2020, 12, 18, 0, 0), datetime.datetime(2020, 1, 30, 0, 0), datetime.datetime(2021, 11, 18, 0, 0), datetime.datetime(2020, 7, 22, 0, 0), datetime.datetime(2021, 5, 21, 0, 0), datetime.datetime(2020, 8, 17, 0, 0), datetime.datetime(2021, 9, 12, 0, 0), datetime.datetime(2020, 9, 7, 0, 0), datetime.datetime(2020, 12, 22, 0, 0), datetime.datetime(2020, 8, 5, 0, 0), datetime.datetime(2020, 8, 25, 0, 0), datetime.datetime(2020, 3, 17, 0, 0), datetime.datetime(2021, 1, 21, 0, 0), datetime.datetime(2020, 3, 2, 0, 0), datetime.datetime(2020, 4, 22, 0, 0), datetime.datetime(2021, 10, 17, 0, 0), datetime.datetime(2021, 6, 14, 0, 0), datetime.datetime(2021, 12, 19, 0, 0), datetime.datetime(2021, 10, 5, 0, 0), datetime.datetime(2021, 11, 30, 0, 0), datetime.datetime(2021, 9, 10, 0, 0), datetime.datetime(2021, 3, 24, 0, 0), datetime.datetime(2021, 8, 2, 0, 0), datetime.datetime(2021, 5, 19, 0, 0), datetime.datetime(2021, 1, 27, 0, 0), datetime.datetime(2021, 2, 27, 0, 0), datetime.datetime(2020, 12, 29, 0, 0), datetime.datetime(2021, 3, 1, 0, 0), datetime.datetime(2021, 7, 20, 0, 0), datetime.datetime(2020, 8, 20, 0, 0), datetime.datetime(2021, 8, 5, 0, 0), datetime.datetime(2021, 10, 13, 0, 0), datetime.datetime(2021, 12, 28, 0, 0), datetime.datetime(2020, 12, 15, 0, 0), datetime.datetime(2021, 5, 3, 0, 0), datetime.datetime(2021, 6, 25, 0, 0), datetime.datetime(2020, 3, 10, 0, 0), datetime.datetime(2020, 8, 1, 0, 0), datetime.datetime(2021, 4, 15, 0, 0), datetime.datetime(2021, 9, 14, 0, 0), datetime.datetime(2020, 2, 19, 0, 0), datetime.datetime(2021, 8, 14, 0, 0), datetime.datetime(2021, 3, 21, 0, 0), datetime.datetime(2021, 12, 9, 0, 0), datetime.datetime(2020, 6, 8, 0, 0), datetime.datetime(2021, 8, 18, 0, 0), datetime.datetime(2021, 9, 13, 0, 0), datetime.datetime(2020, 5, 31, 0, 0), datetime.datetime(2021, 2, 25, 0, 0), datetime.datetime(2020, 11, 30, 0, 0), datetime.datetime(2020, 8, 25, 0, 0), datetime.datetime(2020, 11, 26, 0, 0), datetime.datetime(2020, 3, 3, 0, 0), datetime.datetime(2021, 6, 3, 0, 0), datetime.datetime(2020, 7, 21, 0, 0), datetime.datetime(2020, 11, 8, 0, 0), datetime.datetime(2021, 6, 8, 0, 0), datetime.datetime(2020, 5, 16, 0, 0), datetime.datetime(2021, 12, 11, 0, 0), datetime.datetime(2021, 4, 29, 0, 0), datetime.datetime(2021, 11, 10, 0, 0), datetime.datetime(2020, 12, 10, 0, 0), datetime.datetime(2020, 12, 20, 0, 0), datetime.datetime(2021, 12, 10, 0, 0), datetime.datetime(2020, 5, 15, 0, 0), datetime.datetime(2021, 3, 28, 0, 0), datetime.datetime(2021, 9, 2, 0, 0), datetime.datetime(2021, 12, 7, 0, 0), datetime.datetime(2020, 11, 21, 0, 0), datetime.datetime(2021, 12, 8, 0, 0), datetime.datetime(2020, 2, 29, 0, 0), datetime.datetime(2020, 3, 31, 0, 0), datetime.datetime(2020, 5, 23, 0, 0), datetime.datetime(2020, 2, 10, 0, 0), datetime.datetime(2020, 2, 22, 0, 0), datetime.datetime(2021, 7, 19, 0, 0), datetime.datetime(2020, 7, 2, 0, 0), datetime.datetime(2021, 11, 3, 0, 0), datetime.datetime(2020, 2, 1, 0, 0), datetime.datetime(2021, 10, 30, 0, 0), datetime.datetime(2021, 2, 16, 0, 0), datetime.datetime(2020, 11, 2, 0, 0), datetime.datetime(2020, 12, 22, 0, 0), datetime.datetime(2021, 2, 16, 0, 0), datetime.datetime(2020, 10, 27, 0, 0), datetime.datetime(2020, 6, 30, 0, 0), datetime.datetime(2021, 1, 31, 0, 0), datetime.datetime(2020, 9, 9, 0, 0), datetime.datetime(2021, 1, 12, 0, 0), datetime.datetime(2021, 9, 14, 0, 0), datetime.datetime(2021, 2, 3, 0, 0), datetime.datetime(2020, 9, 12, 0, 0), datetime.datetime(2021, 12, 25, 0, 0), datetime.datetime(2020, 3, 13, 0, 0), datetime.datetime(2021, 10, 13, 0, 0), datetime.datetime(2021, 4, 21, 0, 0), datetime.datetime(2021, 8, 7, 0, 0), datetime.datetime(2021, 10, 15, 0, 0), datetime.datetime(2021, 11, 2, 0, 0), datetime.datetime(2020, 9, 14, 0, 0), datetime.datetime(2021, 3, 5, 0, 0), datetime.datetime(2020, 12, 29, 0, 0), datetime.datetime(2021, 7, 29, 0, 0), datetime.datetime(2021, 11, 20, 0, 0), datetime.datetime(2020, 2, 28, 0, 0), datetime.datetime(2020, 8, 29, 0, 0), datetime.datetime(2021, 10, 6, 0, 0), datetime.datetime(2021, 5, 14, 0, 0), datetime.datetime(2020, 4, 14, 0, 0), datetime.datetime(2020, 6, 4, 0, 0), datetime.datetime(2020, 6, 13, 0, 0), datetime.datetime(2021, 8, 14, 0, 0), datetime.datetime(2020, 7, 23, 0, 0), datetime.datetime(2021, 12, 7, 0, 0), datetime.datetime(2021, 2, 3, 0, 0), datetime.datetime(2020, 10, 11, 0, 0), datetime.datetime(2020, 2, 15, 0, 0), datetime.datetime(2020, 7, 6, 0, 0), datetime.datetime(2021, 9, 13, 0, 0), datetime.datetime(2021, 12, 20, 0, 0), datetime.datetime(2020, 12, 11, 0, 0), datetime.datetime(2021, 6, 8, 0, 0), datetime.datetime(2020, 2, 19, 0, 0), datetime.datetime(2021, 5, 3, 0, 0), datetime.datetime(2021, 4, 4, 0, 0), datetime.datetime(2020, 6, 1, 0, 0), datetime.datetime(2020, 8, 23, 0, 0), datetime.datetime(2020, 5, 16, 0, 0), datetime.datetime(2020, 12, 30, 0, 0), datetime.datetime(2020, 12, 24, 0, 0), datetime.datetime(2021, 4, 16, 0, 0), datetime.datetime(2020, 10, 29, 0, 0), datetime.datetime(2020, 10, 5, 0, 0), datetime.datetime(2020, 6, 28, 0, 0), datetime.datetime(2021, 8, 6, 0, 0), datetime.datetime(2021, 10, 19, 0, 0), datetime.datetime(2020, 7, 15, 0, 0), datetime.datetime(2021, 7, 21, 0, 0), datetime.datetime(2020, 10, 15, 0, 0), datetime.datetime(2020, 5, 4, 0, 0), datetime.datetime(2021, 8, 12, 0, 0), datetime.datetime(2020, 7, 8, 0, 0), datetime.datetime(2021, 1, 5, 0, 0), datetime.datetime(2020, 3, 1, 0, 0), datetime.datetime(2021, 4, 1, 0, 0), datetime.datetime(2021, 1, 5, 0, 0), datetime.datetime(2021, 5, 19, 0, 0), datetime.datetime(2021, 9, 29, 0, 0), datetime.datetime(2021, 7, 20, 0, 0), datetime.datetime(2020, 2, 15, 0, 0), datetime.datetime(2020, 3, 13, 0, 0), datetime.datetime(2021, 5, 12, 0, 0), datetime.datetime(2020, 8, 5, 0, 0), datetime.datetime(2021, 6, 15, 0, 0), datetime.datetime(2020, 1, 17, 0, 0), datetime.datetime(2020, 1, 16, 0, 0), datetime.datetime(2020, 4, 22, 0, 0), datetime.datetime(2020, 2, 7, 0, 0), datetime.datetime(2020, 2, 28, 0, 0), datetime.datetime(2021, 10, 6, 0, 0), datetime.datetime(2020, 11, 20, 0, 0), datetime.datetime(2020, 3, 21, 0, 0), datetime.datetime(2020, 9, 25, 0, 0), datetime.datetime(2021, 4, 1, 0, 0), datetime.datetime(2021, 10, 19, 0, 0), datetime.datetime(2020, 7, 24, 0, 0), datetime.datetime(2021, 6, 20, 0, 0), datetime.datetime(2020, 11, 27, 0, 0), datetime.datetime(2021, 6, 28, 0, 0), datetime.datetime(2020, 3, 7, 0, 0), datetime.datetime(2020, 5, 31, 0, 0), datetime.datetime(2020, 4, 27, 0, 0), datetime.datetime(2020, 6, 24, 0, 0), datetime.datetime(2021, 6, 28, 0, 0), datetime.datetime(2021, 2, 4, 0, 0), datetime.datetime(2021, 2, 6, 0, 0), datetime.datetime(2021, 2, 11, 0, 0), datetime.datetime(2021, 5, 31, 0, 0), datetime.datetime(2021, 5, 10, 0, 0), datetime.datetime(2021, 9, 27, 0, 0), datetime.datetime(2020, 6, 28, 0, 0), datetime.datetime(2021, 4, 2, 0, 0), datetime.datetime(2021, 1, 17, 0, 0), datetime.datetime(2020, 7, 26, 0, 0), datetime.datetime(2021, 10, 7, 0, 0), datetime.datetime(2020, 9, 26, 0, 0), datetime.datetime(2020, 10, 26, 0, 0), datetime.datetime(2020, 4, 7, 0, 0), datetime.datetime(2021, 12, 5, 0, 0), datetime.datetime(2020, 1, 11, 0, 0), datetime.datetime(2020, 7, 16, 0, 0), datetime.datetime(2020, 9, 6, 0, 0), datetime.datetime(2021, 1, 5, 0, 0), datetime.datetime(2021, 5, 7, 0, 0), datetime.datetime(2020, 8, 30, 0, 0), datetime.datetime(2021, 2, 8, 0, 0), datetime.datetime(2020, 9, 22, 0, 0), datetime.datetime(2020, 12, 7, 0, 0), datetime.datetime(2020, 2, 26, 0, 0), datetime.datetime(2020, 12, 19, 0, 0), datetime.datetime(2020, 8, 10, 0, 0), datetime.datetime(2021, 10, 11, 0, 0), datetime.datetime(2020, 4, 19, 0, 0), datetime.datetime(2021, 4, 10, 0, 0), datetime.datetime(2021, 3, 14, 0, 0), datetime.datetime(2020, 2, 12, 0, 0), datetime.datetime(2021, 3, 19, 0, 0), datetime.datetime(2020, 10, 5, 0, 0), datetime.datetime(2020, 11, 9, 0, 0), datetime.datetime(2020, 7, 1, 0, 0), datetime.datetime(2021, 9, 12, 0, 0), datetime.datetime(2020, 8, 16, 0, 0), datetime.datetime(2020, 11, 6, 0, 0), datetime.datetime(2020, 9, 21, 0, 0), datetime.datetime(2020, 12, 25, 0, 0), datetime.datetime(2020, 4, 28, 0, 0), datetime.datetime(2020, 11, 2, 0, 0), datetime.datetime(2021, 10, 2, 0, 0), datetime.datetime(2021, 7, 8, 0, 0), datetime.datetime(2021, 2, 13, 0, 0), datetime.datetime(2020, 6, 26, 0, 0), datetime.datetime(2020, 2, 12, 0, 0), datetime.datetime(2020, 5, 29, 0, 0), datetime.datetime(2020, 6, 29, 0, 0), datetime.datetime(2021, 4, 24, 0, 0), datetime.datetime(2020, 11, 10, 0, 0), datetime.datetime(2020, 5, 12, 0, 0), datetime.datetime(2020, 9, 2, 0, 0), datetime.datetime(2020, 6, 3, 0, 0), datetime.datetime(2020, 11, 29, 0, 0), datetime.datetime(2020, 12, 10, 0, 0), datetime.datetime(2020, 4, 30, 0, 0), datetime.datetime(2021, 12, 30, 0, 0), datetime.datetime(2021, 7, 28, 0, 0), datetime.datetime(2021, 11, 11, 0, 0), datetime.datetime(2020, 1, 30, 0, 0), datetime.datetime(2021, 11, 5, 0, 0), datetime.datetime(2021, 3, 26, 0, 0), datetime.datetime(2021, 7, 30, 0, 0), datetime.datetime(2020, 9, 10, 0, 0), datetime.datetime(2020, 6, 4, 0, 0), datetime.datetime(2021, 5, 11, 0, 0), datetime.datetime(2021, 10, 26, 0, 0), datetime.datetime(2020, 8, 16, 0, 0), datetime.datetime(2020, 8, 2, 0, 0), datetime.datetime(2020, 11, 2, 0, 0), datetime.datetime(2021, 1, 22, 0, 0), datetime.datetime(2021, 4, 19, 0, 0), datetime.datetime(2021, 11, 3, 0, 0), datetime.datetime(2020, 4, 11, 0, 0), datetime.datetime(2020, 7, 17, 0, 0), datetime.datetime(2020, 4, 24, 0, 0), datetime.datetime(2020, 3, 12, 0, 0), datetime.datetime(2020, 4, 16, 0, 0), datetime.datetime(2020, 3, 31, 0, 0), datetime.datetime(2020, 7, 16, 0, 0), datetime.datetime(2020, 1, 6, 0, 0), datetime.datetime(2021, 7, 20, 0, 0), datetime.datetime(2021, 2, 22, 0, 0), datetime.datetime(2020, 12, 6, 0, 0), datetime.datetime(2021, 9, 12, 0, 0), datetime.datetime(2021, 3, 1, 0, 0), datetime.datetime(2021, 5, 25, 0, 0), datetime.datetime(2020, 6, 15, 0, 0), datetime.datetime(2021, 8, 17, 0, 0), datetime.datetime(2021, 12, 6, 0, 0), datetime.datetime(2021, 2, 28, 0, 0), datetime.datetime(2020, 4, 2, 0, 0), datetime.datetime(2021, 10, 19, 0, 0), datetime.datetime(2020, 11, 18, 0, 0), datetime.datetime(2021, 4, 30, 0, 0), datetime.datetime(2020, 4, 5, 0, 0), datetime.datetime(2021, 2, 28, 0, 0), datetime.datetime(2020, 12, 21, 0, 0), datetime.datetime(2021, 10, 20, 0, 0), datetime.datetime(2020, 10, 3, 0, 0), datetime.datetime(2020, 8, 28, 0, 0), datetime.datetime(2021, 8, 16, 0, 0), datetime.datetime(2021, 9, 26, 0, 0), datetime.datetime(2021, 9, 2, 0, 0), datetime.datetime(2021, 10, 9, 0, 0), datetime.datetime(2021, 5, 29, 0, 0), datetime.datetime(2021, 11, 11, 0, 0), datetime.datetime(2021, 12, 2, 0, 0), datetime.datetime(2021, 4, 10, 0, 0), datetime.datetime(2020, 6, 2, 0, 0), datetime.datetime(2020, 3, 3, 0, 0), datetime.datetime(2021, 3, 17, 0, 0), datetime.datetime(2020, 8, 13, 0, 0), datetime.datetime(2021, 9, 21, 0, 0), datetime.datetime(2021, 6, 19, 0, 0), datetime.datetime(2021, 2, 25, 0, 0), datetime.datetime(2020, 3, 17, 0, 0), datetime.datetime(2021, 10, 20, 0, 0), datetime.datetime(2020, 1, 7, 0, 0), datetime.datetime(2020, 5, 4, 0, 0), datetime.datetime(2020, 11, 23, 0, 0), datetime.datetime(2021, 2, 5, 0, 0), datetime.datetime(2020, 11, 20, 0, 0), datetime.datetime(2021, 1, 7, 0, 0), datetime.datetime(2020, 1, 7, 0, 0), datetime.datetime(2020, 10, 6, 0, 0), datetime.datetime(2021, 11, 23, 0, 0), datetime.datetime(2021, 4, 15, 0, 0), datetime.datetime(2020, 2, 20, 0, 0), datetime.datetime(2020, 7, 26, 0, 0), datetime.datetime(2020, 4, 26, 0, 0), datetime.datetime(2020, 3, 6, 0, 0), datetime.datetime(2020, 11, 10, 0, 0), datetime.datetime(2020, 5, 4, 0, 0), datetime.datetime(2021, 1, 24, 0, 0), datetime.datetime(2020, 6, 2, 0, 0), datetime.datetime(2020, 7, 9, 0, 0), datetime.datetime(2020, 7, 28, 0, 0), datetime.datetime(2021, 8, 31, 0, 0), datetime.datetime(2020, 6, 16, 0, 0), datetime.datetime(2021, 8, 24, 0, 0), datetime.datetime(2020, 7, 23, 0, 0), datetime.datetime(2020, 2, 12, 0, 0), datetime.datetime(2020, 3, 3, 0, 0), datetime.datetime(2020, 9, 30, 0, 0), datetime.datetime(2021, 7, 8, 0, 0), datetime.datetime(2021, 1, 31, 0, 0), datetime.datetime(2021, 6, 7, 0, 0), datetime.datetime(2020, 11, 16, 0, 0), datetime.datetime(2021, 5, 23, 0, 0), datetime.datetime(2020, 8, 9, 0, 0), datetime.datetime(2021, 8, 4, 0, 0), datetime.datetime(2020, 5, 11, 0, 0), datetime.datetime(2021, 1, 9, 0, 0), datetime.datetime(2020, 3, 20, 0, 0), datetime.datetime(2021, 8, 16, 0, 0), datetime.datetime(2020, 10, 17, 0, 0), datetime.datetime(2021, 11, 14, 0, 0), datetime.datetime(2021, 11, 29, 0, 0), datetime.datetime(2020, 1, 28, 0, 0), datetime.datetime(2020, 12, 18, 0, 0), datetime.datetime(2021, 12, 16, 0, 0), datetime.datetime(2020, 11, 22, 0, 0), datetime.datetime(2020, 3, 9, 0, 0), datetime.datetime(2020, 5, 6, 0, 0), datetime.datetime(2021, 1, 2, 0, 0), datetime.datetime(2021, 6, 19, 0, 0), datetime.datetime(2021, 1, 7, 0, 0), datetime.datetime(2020, 11, 29, 0, 0), datetime.datetime(2020, 8, 28, 0, 0), datetime.datetime(2021, 2, 17, 0, 0), datetime.datetime(2020, 6, 20, 0, 0), datetime.datetime(2021, 10, 1, 0, 0), datetime.datetime(2020, 7, 12, 0, 0), datetime.datetime(2021, 12, 29, 0, 0), datetime.datetime(2021, 4, 11, 0, 0), datetime.datetime(2020, 5, 17, 0, 0), datetime.datetime(2020, 5, 6, 0, 0), datetime.datetime(2021, 9, 4, 0, 0), datetime.datetime(2020, 11, 12, 0, 0), datetime.datetime(2021, 3, 3, 0, 0), datetime.datetime(2021, 1, 14, 0, 0), datetime.datetime(2020, 4, 9, 0, 0), datetime.datetime(2020, 8, 12, 0, 0), datetime.datetime(2021, 7, 14, 0, 0), datetime.datetime(2021, 9, 28, 0, 0), datetime.datetime(2021, 5, 13, 0, 0), datetime.datetime(2020, 3, 19, 0, 0), datetime.datetime(2020, 11, 14, 0, 0), datetime.datetime(2020, 4, 28, 0, 0), datetime.datetime(2021, 11, 24, 0, 0), datetime.datetime(2021, 10, 11, 0, 0), datetime.datetime(2020, 4, 11, 0, 0), datetime.datetime(2020, 11, 30, 0, 0), datetime.datetime(2021, 9, 20, 0, 0), datetime.datetime(2020, 8, 1, 0, 0), datetime.datetime(2021, 11, 25, 0, 0), datetime.datetime(2020, 2, 22, 0, 0), datetime.datetime(2021, 3, 20, 0, 0), datetime.datetime(2021, 2, 9, 0, 0), datetime.datetime(2020, 3, 17, 0, 0), datetime.datetime(2020, 9, 9, 0, 0), datetime.datetime(2021, 11, 1, 0, 0), datetime.datetime(2021, 9, 15, 0, 0), datetime.datetime(2021, 12, 4, 0, 0), datetime.datetime(2021, 1, 20, 0, 0), datetime.datetime(2021, 12, 16, 0, 0), datetime.datetime(2020, 3, 23, 0, 0), datetime.datetime(2021, 10, 22, 0, 0), datetime.datetime(2021, 10, 19, 0, 0), datetime.datetime(2020, 12, 11, 0, 0), datetime.datetime(2020, 1, 6, 0, 0), datetime.datetime(2021, 7, 5, 0, 0), datetime.datetime(2020, 1, 28, 0, 0), datetime.datetime(2021, 8, 4, 0, 0), datetime.datetime(2021, 10, 5, 0, 0), datetime.datetime(2020, 2, 5, 0, 0), datetime.datetime(2020, 9, 20, 0, 0), datetime.datetime(2020, 3, 29, 0, 0), datetime.datetime(2021, 6, 15, 0, 0), datetime.datetime(2021, 2, 23, 0, 0), datetime.datetime(2021, 8, 1, 0, 0), datetime.datetime(2020, 12, 9, 0, 0), datetime.datetime(2020, 12, 14, 0, 0), datetime.datetime(2021, 10, 2, 0, 0), datetime.datetime(2021, 10, 27, 0, 0), datetime.datetime(2021, 4, 26, 0, 0), datetime.datetime(2020, 4, 1, 0, 0), datetime.datetime(2020, 8, 11, 0, 0), datetime.datetime(2021, 4, 5, 0, 0), datetime.datetime(2021, 5, 26, 0, 0), datetime.datetime(2020, 11, 21, 0, 0), datetime.datetime(2021, 10, 28, 0, 0), datetime.datetime(2021, 3, 4, 0, 0), datetime.datetime(2020, 2, 18, 0, 0), datetime.datetime(2020, 1, 22, 0, 0), datetime.datetime(2020, 9, 24, 0, 0), datetime.datetime(2020, 6, 29, 0, 0), datetime.datetime(2021, 4, 2, 0, 0), datetime.datetime(2021, 3, 14, 0, 0), datetime.datetime(2021, 12, 13, 0, 0), datetime.datetime(2020, 6, 23, 0, 0), datetime.datetime(2021, 3, 21, 0, 0), datetime.datetime(2021, 3, 21, 0, 0), datetime.datetime(2020, 8, 18, 0, 0), datetime.datetime(2021, 12, 15, 0, 0), datetime.datetime(2020, 1, 11, 0, 0), datetime.datetime(2020, 11, 1, 0, 0), datetime.datetime(2021, 11, 18, 0, 0), datetime.datetime(2021, 1, 26, 0, 0), datetime.datetime(2020, 9, 9, 0, 0), datetime.datetime(2021, 2, 24, 0, 0), datetime.datetime(2021, 1, 8, 0, 0), datetime.datetime(2020, 11, 4, 0, 0), datetime.datetime(2020, 8, 17, 0, 0), datetime.datetime(2021, 10, 20, 0, 0), datetime.datetime(2020, 5, 9, 0, 0), datetime.datetime(2020, 3, 27, 0, 0), datetime.datetime(2021, 11, 27, 0, 0), datetime.datetime(2021, 10, 7, 0, 0), datetime.datetime(2021, 4, 22, 0, 0), datetime.datetime(2021, 5, 31, 0, 0), datetime.datetime(2021, 4, 25, 0, 0), datetime.datetime(2020, 1, 4, 0, 0), datetime.datetime(2021, 2, 9, 0, 0), datetime.datetime(2020, 4, 8, 0, 0), datetime.datetime(2021, 2, 20, 0, 0), datetime.datetime(2020, 11, 28, 0, 0), datetime.datetime(2021, 11, 10, 0, 0), datetime.datetime(2021, 1, 25, 0, 0), datetime.datetime(2020, 7, 28, 0, 0), datetime.datetime(2020, 1, 3, 0, 0), datetime.datetime(2020, 10, 19, 0, 0), datetime.datetime(2021, 7, 18, 0, 0), datetime.datetime(2020, 11, 15, 0, 0), datetime.datetime(2021, 5, 23, 0, 0), datetime.datetime(2021, 9, 11, 0, 0), datetime.datetime(2020, 12, 10, 0, 0), datetime.datetime(2020, 8, 9, 0, 0), datetime.datetime(2020, 1, 27, 0, 0), datetime.datetime(2020, 4, 30, 0, 0), datetime.datetime(2020, 3, 25, 0, 0)] [datetime.datetime(2022, 4, 2, 0, 0), datetime.datetime(2022, 9, 18, 0, 0), datetime.datetime(2023, 6, 15, 0, 0), datetime.datetime(2022, 8, 27, 0, 0), datetime.datetime(2023, 12, 9, 0, 0), datetime.datetime(2023, 9, 14, 0, 0), datetime.datetime(2023, 10, 10, 0, 0), datetime.datetime(2022, 6, 10, 0, 0), datetime.datetime(2023, 9, 12, 0, 0), datetime.datetime(2023, 4, 18, 0, 0), datetime.datetime(2022, 12, 18, 0, 0), datetime.datetime(2023, 11, 1, 0, 0), datetime.datetime(2022, 9, 16, 0, 0), datetime.datetime(2023, 8, 28, 0, 0), datetime.datetime(2023, 1, 2, 0, 0), datetime.datetime(2022, 2, 12, 0, 0), datetime.datetime(2023, 1, 13, 0, 0), datetime.datetime(2023, 11, 14, 0, 0), datetime.datetime(2022, 7, 10, 0, 0), datetime.datetime(2022, 1, 11, 0, 0), datetime.datetime(2023, 10, 16, 0, 0), datetime.datetime(2023, 7, 22, 0, 0), datetime.datetime(2023, 2, 23, 0, 0), datetime.datetime(2022, 12, 26, 0, 0), datetime.datetime(2022, 4, 9, 0, 0), datetime.datetime(2022, 12, 20, 0, 0), datetime.datetime(2023, 5, 11, 0, 0), datetime.datetime(2023, 5, 24, 0, 0), datetime.datetime(2023, 6, 20, 0, 0), datetime.datetime(2022, 3, 13, 0, 0), datetime.datetime(2023, 4, 29, 0, 0), datetime.datetime(2022, 5, 15, 0, 0), datetime.datetime(2023, 6, 12, 0, 0), datetime.datetime(2022, 2, 9, 0, 0), datetime.datetime(2022, 6, 8, 0, 0), datetime.datetime(2023, 10, 13, 0, 0), datetime.datetime(2023, 4, 24, 0, 0), datetime.datetime(2022, 8, 24, 0, 0), datetime.datetime(2023, 3, 28, 0, 0), datetime.datetime(2023, 4, 11, 0, 0), datetime.datetime(2023, 6, 8, 0, 0), datetime.datetime(2022, 4, 25, 0, 0), datetime.datetime(2022, 9, 3, 0, 0), datetime.datetime(2022, 2, 13, 0, 0), datetime.datetime(2023, 11, 25, 0, 0), datetime.datetime(2023, 10, 19, 0, 0), datetime.datetime(2022, 2, 9, 0, 0), datetime.datetime(2023, 7, 4, 0, 0), datetime.datetime(2022, 2, 5, 0, 0), datetime.datetime(2022, 8, 7, 0, 0), datetime.datetime(2022, 5, 10, 0, 0), datetime.datetime(2023, 7, 24, 0, 0), datetime.datetime(2022, 1, 7, 0, 0), datetime.datetime(2022, 4, 27, 0, 0), datetime.datetime(2023, 5, 4, 0, 0), datetime.datetime(2023, 2, 14, 0, 0), datetime.datetime(2022, 2, 16, 0, 0), datetime.datetime(2023, 12, 7, 0, 0), datetime.datetime(2023, 10, 2, 0, 0), datetime.datetime(2022, 7, 1, 0, 0), datetime.datetime(2022, 9, 22, 0, 0), datetime.datetime(2022, 2, 14, 0, 0), datetime.datetime(2022, 12, 11, 0, 0), datetime.datetime(2023, 5, 22, 0, 0), datetime.datetime(2022, 6, 22, 0, 0), datetime.datetime(2022, 7, 19, 0, 0), datetime.datetime(2023, 3, 1, 0, 0), datetime.datetime(2022, 4, 24, 0, 0), datetime.datetime(2023, 4, 24, 0, 0), datetime.datetime(2023, 1, 29, 0, 0), datetime.datetime(2023, 4, 8, 0, 0), datetime.datetime(2023, 9, 16, 0, 0), datetime.datetime(2022, 5, 10, 0, 0), datetime.datetime(2022, 2, 22, 0, 0), datetime.datetime(2023, 9, 20, 0, 0), datetime.datetime(2022, 4, 30, 0, 0), datetime.datetime(2022, 6, 5, 0, 0), datetime.datetime(2023, 10, 26, 0, 0), datetime.datetime(2023, 11, 14, 0, 0), datetime.datetime(2022, 8, 29, 0, 0), datetime.datetime(2023, 1, 31, 0, 0), datetime.datetime(2023, 11, 19, 0, 0), datetime.datetime(2022, 2, 9, 0, 0), datetime.datetime(2022, 7, 30, 0, 0), datetime.datetime(2022, 6, 24, 0, 0), datetime.datetime(2022, 7, 28, 0, 0), datetime.datetime(2022, 11, 16, 0, 0), datetime.datetime(2022, 10, 4, 0, 0), datetime.datetime(2022, 8, 22, 0, 0), datetime.datetime(2023, 9, 24, 0, 0), datetime.datetime(2023, 12, 14, 0, 0), datetime.datetime(2023, 11, 26, 0, 0), datetime.datetime(2022, 1, 30, 0, 0), datetime.datetime(2023, 4, 25, 0, 0), datetime.datetime(2022, 3, 7, 0, 0), datetime.datetime(2023, 2, 7, 0, 0), datetime.datetime(2023, 2, 5, 0, 0), datetime.datetime(2022, 12, 19, 0, 0), datetime.datetime(2023, 3, 1, 0, 0), datetime.datetime(2023, 8, 4, 0, 0), datetime.datetime(2022, 3, 30, 0, 0), datetime.datetime(2023, 7, 1, 0, 0), datetime.datetime(2022, 1, 5, 0, 0), datetime.datetime(2023, 2, 9, 0, 0), datetime.datetime(2023, 4, 17, 0, 0), datetime.datetime(2022, 12, 23, 0, 0), datetime.datetime(2023, 10, 2, 0, 0), datetime.datetime(2022, 10, 16, 0, 0), datetime.datetime(2022, 3, 17, 0, 0), datetime.datetime(2023, 4, 20, 0, 0), datetime.datetime(2023, 6, 1, 0, 0), datetime.datetime(2022, 6, 21, 0, 0), datetime.datetime(2022, 8, 15, 0, 0), datetime.datetime(2022, 10, 10, 0, 0), datetime.datetime(2022, 3, 3, 0, 0), datetime.datetime(2022, 5, 7, 0, 0), datetime.datetime(2023, 11, 30, 0, 0), datetime.datetime(2022, 3, 11, 0, 0), datetime.datetime(2023, 8, 30, 0, 0), datetime.datetime(2022, 10, 12, 0, 0), datetime.datetime(2022, 1, 15, 0, 0), datetime.datetime(2023, 5, 23, 0, 0), datetime.datetime(2023, 10, 20, 0, 0), datetime.datetime(2023, 3, 10, 0, 0), datetime.datetime(2022, 2, 18, 0, 0), datetime.datetime(2023, 8, 25, 0, 0), datetime.datetime(2022, 1, 28, 0, 0), datetime.datetime(2023, 12, 1, 0, 0), datetime.datetime(2023, 9, 26, 0, 0), datetime.datetime(2023, 8, 5, 0, 0), datetime.datetime(2022, 4, 30, 0, 0), datetime.datetime(2022, 7, 30, 0, 0), datetime.datetime(2022, 4, 25, 0, 0), datetime.datetime(2022, 3, 11, 0, 0), datetime.datetime(2023, 8, 21, 0, 0), datetime.datetime(2022, 12, 6, 0, 0), datetime.datetime(2022, 6, 27, 0, 0), datetime.datetime(2023, 6, 18, 0, 0), datetime.datetime(2023, 3, 18, 0, 0), datetime.datetime(2022, 2, 25, 0, 0), datetime.datetime(2023, 10, 19, 0, 0), datetime.datetime(2023, 8, 18, 0, 0), datetime.datetime(2023, 1, 30, 0, 0), datetime.datetime(2023, 3, 21, 0, 0), datetime.datetime(2023, 12, 30, 0, 0), datetime.datetime(2022, 11, 25, 0, 0), datetime.datetime(2023, 9, 18, 0, 0), datetime.datetime(2022, 6, 5, 0, 0), datetime.datetime(2023, 6, 6, 0, 0), datetime.datetime(2022, 7, 6, 0, 0), datetime.datetime(2023, 4, 9, 0, 0), datetime.datetime(2022, 5, 23, 0, 0), datetime.datetime(2022, 7, 12, 0, 0), datetime.datetime(2022, 8, 28, 0, 0), datetime.datetime(2022, 9, 1, 0, 0), datetime.datetime(2022, 2, 12, 0, 0), datetime.datetime(2023, 12, 6, 0, 0), datetime.datetime(2023, 1, 24, 0, 0), datetime.datetime(2023, 7, 29, 0, 0), datetime.datetime(2022, 3, 6, 0, 0), datetime.datetime(2022, 5, 12, 0, 0), datetime.datetime(2022, 9, 24, 0, 0), datetime.datetime(2022, 1, 11, 0, 0), datetime.datetime(2023, 8, 8, 0, 0), datetime.datetime(2023, 10, 6, 0, 0), datetime.datetime(2023, 5, 14, 0, 0), datetime.datetime(2023, 9, 30, 0, 0), datetime.datetime(2023, 7, 4, 0, 0), datetime.datetime(2022, 8, 28, 0, 0), datetime.datetime(2022, 5, 3, 0, 0), datetime.datetime(2023, 11, 28, 0, 0), datetime.datetime(2022, 2, 6, 0, 0), datetime.datetime(2023, 3, 22, 0, 0), datetime.datetime(2022, 2, 7, 0, 0), datetime.datetime(2023, 7, 7, 0, 0), datetime.datetime(2022, 4, 19, 0, 0), datetime.datetime(2023, 9, 14, 0, 0), datetime.datetime(2022, 3, 1, 0, 0), datetime.datetime(2022, 11, 18, 0, 0), datetime.datetime(2023, 3, 2, 0, 0), datetime.datetime(2023, 5, 22, 0, 0), datetime.datetime(2023, 9, 20, 0, 0), datetime.datetime(2023, 3, 15, 0, 0), datetime.datetime(2022, 10, 21, 0, 0), datetime.datetime(2022, 4, 24, 0, 0), datetime.datetime(2023, 7, 31, 0, 0), datetime.datetime(2022, 10, 6, 0, 0), datetime.datetime(2022, 5, 14, 0, 0), datetime.datetime(2023, 4, 30, 0, 0), datetime.datetime(2023, 2, 27, 0, 0), datetime.datetime(2023, 6, 27, 0, 0), datetime.datetime(2023, 5, 2, 0, 0), datetime.datetime(2022, 7, 14, 0, 0), datetime.datetime(2022, 3, 9, 0, 0), datetime.datetime(2022, 3, 18, 0, 0), datetime.datetime(2023, 7, 8, 0, 0), datetime.datetime(2023, 6, 30, 0, 0), datetime.datetime(2023, 12, 25, 0, 0), datetime.datetime(2022, 2, 8, 0, 0), datetime.datetime(2023, 1, 11, 0, 0), datetime.datetime(2022, 1, 4, 0, 0), datetime.datetime(2022, 1, 5, 0, 0), datetime.datetime(2022, 6, 26, 0, 0), datetime.datetime(2023, 3, 10, 0, 0), datetime.datetime(2022, 11, 18, 0, 0), datetime.datetime(2023, 7, 3, 0, 0), datetime.datetime(2022, 8, 4, 0, 0), datetime.datetime(2022, 8, 23, 0, 0), datetime.datetime(2023, 8, 10, 0, 0), datetime.datetime(2022, 12, 14, 0, 0), datetime.datetime(2022, 11, 1, 0, 0), datetime.datetime(2023, 10, 6, 0, 0), datetime.datetime(2023, 3, 18, 0, 0), datetime.datetime(2023, 10, 21, 0, 0), datetime.datetime(2022, 12, 24, 0, 0), datetime.datetime(2023, 9, 24, 0, 0), datetime.datetime(2023, 3, 21, 0, 0), datetime.datetime(2022, 12, 25, 0, 0), datetime.datetime(2022, 4, 2, 0, 0), datetime.datetime(2022, 4, 10, 0, 0), datetime.datetime(2023, 3, 12, 0, 0), datetime.datetime(2022, 5, 4, 0, 0), datetime.datetime(2023, 10, 2, 0, 0), datetime.datetime(2023, 12, 8, 0, 0), datetime.datetime(2022, 11, 26, 0, 0), datetime.datetime(2023, 4, 20, 0, 0), datetime.datetime(2023, 10, 18, 0, 0), datetime.datetime(2023, 6, 13, 0, 0), datetime.datetime(2023, 3, 17, 0, 0), datetime.datetime(2023, 5, 18, 0, 0), datetime.datetime(2022, 3, 7, 0, 0), datetime.datetime(2023, 4, 26, 0, 0), datetime.datetime(2023, 5, 26, 0, 0), datetime.datetime(2022, 4, 25, 0, 0), datetime.datetime(2023, 5, 17, 0, 0), datetime.datetime(2022, 9, 14, 0, 0), datetime.datetime(2023, 11, 12, 0, 0), datetime.datetime(2022, 5, 1, 0, 0), datetime.datetime(2023, 2, 20, 0, 0), datetime.datetime(2023, 5, 7, 0, 0), datetime.datetime(2022, 11, 6, 0, 0), datetime.datetime(2022, 3, 13, 0, 0), datetime.datetime(2022, 2, 28, 0, 0), datetime.datetime(2023, 8, 7, 0, 0), datetime.datetime(2023, 2, 10, 0, 0), datetime.datetime(2023, 3, 9, 0, 0), datetime.datetime(2023, 4, 28, 0, 0), datetime.datetime(2023, 11, 18, 0, 0), datetime.datetime(2023, 5, 1, 0, 0), datetime.datetime(2023, 10, 5, 0, 0), datetime.datetime(2022, 12, 6, 0, 0), datetime.datetime(2023, 3, 18, 0, 0), datetime.datetime(2023, 11, 3, 0, 0), datetime.datetime(2022, 5, 18, 0, 0), datetime.datetime(2023, 4, 22, 0, 0), datetime.datetime(2022, 11, 9, 0, 0), datetime.datetime(2023, 8, 23, 0, 0), datetime.datetime(2022, 1, 24, 0, 0), datetime.datetime(2022, 5, 14, 0, 0), datetime.datetime(2023, 12, 5, 0, 0), datetime.datetime(2023, 8, 19, 0, 0), datetime.datetime(2023, 11, 27, 0, 0), datetime.datetime(2022, 8, 26, 0, 0), datetime.datetime(2022, 12, 16, 0, 0), datetime.datetime(2023, 11, 11, 0, 0), datetime.datetime(2023, 2, 22, 0, 0), datetime.datetime(2023, 4, 29, 0, 0), datetime.datetime(2022, 6, 6, 0, 0), datetime.datetime(2022, 3, 3, 0, 0), datetime.datetime(2022, 6, 11, 0, 0), datetime.datetime(2022, 8, 6, 0, 0), datetime.datetime(2023, 5, 26, 0, 0), datetime.datetime(2022, 6, 10, 0, 0), datetime.datetime(2023, 9, 2, 0, 0), datetime.datetime(2022, 10, 17, 0, 0), datetime.datetime(2023, 7, 7, 0, 0), datetime.datetime(2023, 6, 6, 0, 0), datetime.datetime(2022, 5, 22, 0, 0), datetime.datetime(2023, 12, 3, 0, 0), datetime.datetime(2022, 10, 28, 0, 0), datetime.datetime(2022, 4, 14, 0, 0), datetime.datetime(2023, 7, 17, 0, 0), datetime.datetime(2022, 10, 20, 0, 0), datetime.datetime(2023, 9, 30, 0, 0), datetime.datetime(2023, 4, 4, 0, 0), datetime.datetime(2023, 11, 22, 0, 0), datetime.datetime(2022, 9, 30, 0, 0), datetime.datetime(2022, 10, 1, 0, 0), datetime.datetime(2022, 7, 4, 0, 0), datetime.datetime(2023, 5, 30, 0, 0), datetime.datetime(2022, 2, 16, 0, 0), datetime.datetime(2022, 10, 31, 0, 0), datetime.datetime(2022, 6, 12, 0, 0), datetime.datetime(2022, 11, 9, 0, 0), datetime.datetime(2022, 11, 13, 0, 0), datetime.datetime(2023, 11, 6, 0, 0), datetime.datetime(2022, 6, 11, 0, 0), datetime.datetime(2022, 9, 17, 0, 0), datetime.datetime(2023, 7, 16, 0, 0), datetime.datetime(2023, 10, 15, 0, 0), datetime.datetime(2023, 9, 26, 0, 0), datetime.datetime(2022, 9, 1, 0, 0), datetime.datetime(2023, 1, 8, 0, 0), datetime.datetime(2022, 11, 22, 0, 0), datetime.datetime(2023, 8, 12, 0, 0), datetime.datetime(2022, 7, 19, 0, 0), datetime.datetime(2022, 5, 8, 0, 0), datetime.datetime(2023, 4, 2, 0, 0), datetime.datetime(2022, 12, 9, 0, 0), datetime.datetime(2022, 9, 15, 0, 0), datetime.datetime(2022, 10, 29, 0, 0), datetime.datetime(2022, 10, 26, 0, 0), datetime.datetime(2023, 12, 6, 0, 0), datetime.datetime(2022, 8, 1, 0, 0), datetime.datetime(2023, 6, 18, 0, 0), datetime.datetime(2022, 6, 20, 0, 0), datetime.datetime(2023, 4, 21, 0, 0), datetime.datetime(2023, 4, 4, 0, 0), datetime.datetime(2023, 1, 30, 0, 0), datetime.datetime(2022, 8, 16, 0, 0), datetime.datetime(2022, 9, 30, 0, 0), datetime.datetime(2022, 1, 16, 0, 0), datetime.datetime(2022, 8, 3, 0, 0), datetime.datetime(2023, 8, 20, 0, 0), datetime.datetime(2022, 1, 8, 0, 0), datetime.datetime(2023, 4, 1, 0, 0), datetime.datetime(2022, 6, 11, 0, 0), datetime.datetime(2023, 3, 30, 0, 0), datetime.datetime(2023, 3, 5, 0, 0), datetime.datetime(2023, 9, 22, 0, 0), datetime.datetime(2023, 9, 9, 0, 0), datetime.datetime(2023, 6, 17, 0, 0), datetime.datetime(2021, 12, 31, 0, 0), datetime.datetime(2022, 7, 16, 0, 0), datetime.datetime(2023, 12, 19, 0, 0), datetime.datetime(2022, 11, 14, 0, 0), datetime.datetime(2022, 3, 18, 0, 0), datetime.datetime(2023, 8, 4, 0, 0), datetime.datetime(2022, 5, 18, 0, 0), datetime.datetime(2023, 4, 18, 0, 0), datetime.datetime(2023, 3, 17, 0, 0), datetime.datetime(2022, 4, 21, 0, 0), datetime.datetime(2022, 3, 29, 0, 0), datetime.datetime(2022, 5, 8, 0, 0), datetime.datetime(2023, 1, 22, 0, 0), datetime.datetime(2022, 2, 26, 0, 0), datetime.datetime(2022, 8, 27, 0, 0), datetime.datetime(2022, 2, 5, 0, 0), datetime.datetime(2022, 9, 28, 0, 0), datetime.datetime(2022, 6, 3, 0, 0), datetime.datetime(2023, 8, 12, 0, 0), datetime.datetime(2023, 1, 17, 0, 0), datetime.datetime(2022, 1, 30, 0, 0), datetime.datetime(2022, 11, 13, 0, 0), datetime.datetime(2023, 12, 10, 0, 0), datetime.datetime(2023, 5, 16, 0, 0), datetime.datetime(2022, 1, 10, 0, 0), datetime.datetime(2022, 12, 9, 0, 0), datetime.datetime(2022, 10, 4, 0, 0), datetime.datetime(2022, 11, 24, 0, 0), datetime.datetime(2022, 9, 30, 0, 0), datetime.datetime(2023, 11, 12, 0, 0), datetime.datetime(2022, 1, 22, 0, 0), datetime.datetime(2023, 1, 2, 0, 0), datetime.datetime(2023, 5, 23, 0, 0), datetime.datetime(2022, 1, 26, 0, 0), datetime.datetime(2022, 1, 25, 0, 0), datetime.datetime(2023, 10, 14, 0, 0), datetime.datetime(2023, 3, 30, 0, 0), datetime.datetime(2022, 12, 20, 0, 0), datetime.datetime(2022, 7, 26, 0, 0), datetime.datetime(2022, 7, 11, 0, 0), datetime.datetime(2023, 4, 30, 0, 0), datetime.datetime(2022, 3, 22, 0, 0), datetime.datetime(2022, 2, 9, 0, 0), datetime.datetime(2023, 5, 5, 0, 0), datetime.datetime(2022, 12, 30, 0, 0), datetime.datetime(2022, 8, 15, 0, 0), datetime.datetime(2023, 4, 9, 0, 0), datetime.datetime(2022, 2, 3, 0, 0), datetime.datetime(2023, 9, 11, 0, 0), datetime.datetime(2023, 4, 20, 0, 0), datetime.datetime(2022, 7, 24, 0, 0), datetime.datetime(2022, 4, 29, 0, 0), datetime.datetime(2023, 11, 12, 0, 0), datetime.datetime(2022, 9, 15, 0, 0), datetime.datetime(2023, 5, 15, 0, 0), datetime.datetime(2023, 5, 25, 0, 0), datetime.datetime(2022, 7, 1, 0, 0), datetime.datetime(2022, 2, 4, 0, 0), datetime.datetime(2023, 5, 12, 0, 0), datetime.datetime(2023, 1, 22, 0, 0), datetime.datetime(2023, 1, 13, 0, 0), datetime.datetime(2022, 12, 7, 0, 0), datetime.datetime(2022, 4, 10, 0, 0), datetime.datetime(2022, 12, 22, 0, 0), datetime.datetime(2022, 2, 25, 0, 0), datetime.datetime(2023, 8, 10, 0, 0), datetime.datetime(2023, 9, 10, 0, 0), datetime.datetime(2023, 7, 2, 0, 0), datetime.datetime(2023, 12, 26, 0, 0), datetime.datetime(2023, 5, 4, 0, 0), datetime.datetime(2023, 10, 25, 0, 0), datetime.datetime(2023, 6, 17, 0, 0), datetime.datetime(2022, 3, 10, 0, 0), datetime.datetime(2023, 2, 8, 0, 0), datetime.datetime(2022, 1, 3, 0, 0), datetime.datetime(2022, 12, 23, 0, 0), datetime.datetime(2022, 1, 18, 0, 0), datetime.datetime(2022, 10, 15, 0, 0), datetime.datetime(2023, 1, 6, 0, 0), datetime.datetime(2022, 5, 13, 0, 0), datetime.datetime(2022, 3, 28, 0, 0), datetime.datetime(2022, 3, 13, 0, 0), datetime.datetime(2022, 6, 10, 0, 0), datetime.datetime(2023, 2, 22, 0, 0), datetime.datetime(2022, 11, 19, 0, 0), datetime.datetime(2023, 2, 12, 0, 0), datetime.datetime(2023, 11, 29, 0, 0), datetime.datetime(2023, 12, 10, 0, 0), datetime.datetime(2022, 7, 3, 0, 0), datetime.datetime(2022, 2, 21, 0, 0), datetime.datetime(2022, 9, 29, 0, 0), datetime.datetime(2022, 10, 6, 0, 0), datetime.datetime(2023, 6, 18, 0, 0), datetime.datetime(2022, 3, 23, 0, 0), datetime.datetime(2023, 2, 25, 0, 0), datetime.datetime(2023, 5, 26, 0, 0), datetime.datetime(2022, 12, 3, 0, 0), datetime.datetime(2022, 2, 26, 0, 0), datetime.datetime(2023, 9, 17, 0, 0), datetime.datetime(2022, 3, 22, 0, 0), datetime.datetime(2023, 1, 12, 0, 0), datetime.datetime(2023, 4, 8, 0, 0), datetime.datetime(2023, 2, 1, 0, 0), datetime.datetime(2023, 12, 4, 0, 0), datetime.datetime(2022, 11, 21, 0, 0), datetime.datetime(2023, 4, 27, 0, 0), datetime.datetime(2023, 5, 4, 0, 0), datetime.datetime(2023, 10, 20, 0, 0), datetime.datetime(2022, 5, 8, 0, 0), datetime.datetime(2023, 8, 3, 0, 0), datetime.datetime(2023, 6, 16, 0, 0), datetime.datetime(2023, 3, 29, 0, 0), datetime.datetime(2022, 11, 27, 0, 0), datetime.datetime(2022, 1, 31, 0, 0), datetime.datetime(2022, 2, 24, 0, 0), datetime.datetime(2023, 3, 12, 0, 0), datetime.datetime(2022, 2, 5, 0, 0), datetime.datetime(2023, 4, 13, 0, 0), datetime.datetime(2023, 8, 12, 0, 0), datetime.datetime(2023, 8, 21, 0, 0), datetime.datetime(2022, 11, 15, 0, 0), datetime.datetime(2023, 6, 12, 0, 0), datetime.datetime(2022, 7, 20, 0, 0), datetime.datetime(2023, 2, 19, 0, 0), datetime.datetime(2022, 7, 17, 0, 0), datetime.datetime(2023, 5, 31, 0, 0), datetime.datetime(2023, 12, 2, 0, 0), datetime.datetime(2022, 7, 5, 0, 0), datetime.datetime(2022, 1, 21, 0, 0), datetime.datetime(2022, 11, 16, 0, 0), datetime.datetime(2022, 5, 7, 0, 0), datetime.datetime(2022, 9, 7, 0, 0), datetime.datetime(2023, 1, 20, 0, 0), datetime.datetime(2022, 6, 16, 0, 0), datetime.datetime(2023, 4, 17, 0, 0), datetime.datetime(2022, 6, 13, 0, 0), datetime.datetime(2023, 10, 30, 0, 0), datetime.datetime(2023, 8, 28, 0, 0), datetime.datetime(2022, 9, 11, 0, 0), datetime.datetime(2023, 6, 14, 0, 0), datetime.datetime(2023, 3, 19, 0, 0), datetime.datetime(2023, 1, 8, 0, 0), datetime.datetime(2023, 7, 23, 0, 0), datetime.datetime(2022, 10, 16, 0, 0), datetime.datetime(2022, 5, 12, 0, 0), datetime.datetime(2023, 7, 14, 0, 0), datetime.datetime(2023, 11, 11, 0, 0), datetime.datetime(2022, 7, 5, 0, 0), datetime.datetime(2023, 8, 11, 0, 0), datetime.datetime(2023, 4, 23, 0, 0), datetime.datetime(2022, 8, 9, 0, 0), datetime.datetime(2023, 10, 11, 0, 0), datetime.datetime(2022, 1, 7, 0, 0), datetime.datetime(2022, 10, 16, 0, 0), datetime.datetime(2023, 4, 8, 0, 0), datetime.datetime(2023, 1, 22, 0, 0), datetime.datetime(2022, 6, 8, 0, 0), datetime.datetime(2022, 11, 16, 0, 0), datetime.datetime(2023, 8, 30, 0, 0), datetime.datetime(2023, 12, 23, 0, 0), datetime.datetime(2022, 12, 27, 0, 0), datetime.datetime(2022, 12, 30, 0, 0), datetime.datetime(2023, 12, 27, 0, 0), datetime.datetime(2022, 10, 30, 0, 0), datetime.datetime(2023, 4, 18, 0, 0), datetime.datetime(2023, 9, 4, 0, 0), datetime.datetime(2022, 6, 26, 0, 0), datetime.datetime(2022, 3, 3, 0, 0), datetime.datetime(2022, 2, 7, 0, 0), datetime.datetime(2022, 7, 24, 0, 0), datetime.datetime(2023, 4, 23, 0, 0), datetime.datetime(2023, 9, 3, 0, 0), datetime.datetime(2022, 3, 24, 0, 0), datetime.datetime(2022, 12, 20, 0, 0), datetime.datetime(2023, 5, 1, 0, 0), datetime.datetime(2023, 9, 21, 0, 0), datetime.datetime(2022, 8, 26, 0, 0), datetime.datetime(2022, 5, 27, 0, 0), datetime.datetime(2023, 6, 4, 0, 0), datetime.datetime(2022, 8, 7, 0, 0), datetime.datetime(2022, 3, 18, 0, 0), datetime.datetime(2023, 3, 27, 0, 0), datetime.datetime(2023, 2, 22, 0, 0), datetime.datetime(2023, 9, 7, 0, 0), datetime.datetime(2022, 5, 9, 0, 0), datetime.datetime(2022, 7, 23, 0, 0), datetime.datetime(2022, 1, 3, 0, 0), datetime.datetime(2023, 9, 17, 0, 0), datetime.datetime(2023, 11, 24, 0, 0), datetime.datetime(2023, 7, 24, 0, 0), datetime.datetime(2023, 8, 9, 0, 0), datetime.datetime(2022, 7, 3, 0, 0), datetime.datetime(2023, 3, 12, 0, 0), datetime.datetime(2023, 6, 6, 0, 0), datetime.datetime(2022, 3, 24, 0, 0), datetime.datetime(2022, 3, 8, 0, 0), datetime.datetime(2022, 6, 14, 0, 0), datetime.datetime(2023, 1, 29, 0, 0), datetime.datetime(2023, 6, 24, 0, 0), datetime.datetime(2023, 8, 15, 0, 0), datetime.datetime(2023, 10, 14, 0, 0), datetime.datetime(2022, 1, 8, 0, 0), datetime.datetime(2022, 12, 16, 0, 0), datetime.datetime(2022, 11, 10, 0, 0), datetime.datetime(2022, 4, 29, 0, 0), datetime.datetime(2022, 2, 6, 0, 0), datetime.datetime(2022, 5, 15, 0, 0), datetime.datetime(2023, 10, 5, 0, 0), datetime.datetime(2022, 3, 22, 0, 0), datetime.datetime(2022, 4, 14, 0, 0), datetime.datetime(2023, 6, 11, 0, 0), datetime.datetime(2023, 8, 9, 0, 0), datetime.datetime(2022, 5, 17, 0, 0), datetime.datetime(2023, 2, 9, 0, 0), datetime.datetime(2022, 2, 28, 0, 0), datetime.datetime(2022, 9, 27, 0, 0), datetime.datetime(2022, 2, 7, 0, 0), datetime.datetime(2023, 2, 17, 0, 0), datetime.datetime(2022, 9, 17, 0, 0), datetime.datetime(2022, 4, 28, 0, 0), datetime.datetime(2023, 5, 18, 0, 0), datetime.datetime(2022, 8, 6, 0, 0), datetime.datetime(2023, 9, 3, 0, 0), datetime.datetime(2022, 12, 18, 0, 0), datetime.datetime(2022, 4, 22, 0, 0), datetime.datetime(2022, 9, 16, 0, 0), datetime.datetime(2022, 12, 25, 0, 0), datetime.datetime(2022, 1, 27, 0, 0), datetime.datetime(2022, 10, 22, 0, 0), datetime.datetime(2022, 1, 1, 0, 0), datetime.datetime(2022, 6, 23, 0, 0), datetime.datetime(2023, 6, 27, 0, 0), datetime.datetime(2023, 1, 3, 0, 0), datetime.datetime(2022, 3, 30, 0, 0), datetime.datetime(2023, 7, 24, 0, 0), datetime.datetime(2022, 4, 5, 0, 0), datetime.datetime(2022, 1, 2, 0, 0), datetime.datetime(2022, 8, 12, 0, 0), datetime.datetime(2022, 8, 8, 0, 0), datetime.datetime(2022, 6, 4, 0, 0), datetime.datetime(2022, 7, 10, 0, 0), datetime.datetime(2022, 2, 19, 0, 0), datetime.datetime(2023, 9, 3, 0, 0), datetime.datetime(2022, 9, 24, 0, 0), datetime.datetime(2023, 4, 17, 0, 0), datetime.datetime(2022, 10, 17, 0, 0), datetime.datetime(2023, 8, 29, 0, 0), datetime.datetime(2023, 12, 14, 0, 0), datetime.datetime(2022, 11, 19, 0, 0), datetime.datetime(2023, 6, 20, 0, 0), datetime.datetime(2022, 4, 1, 0, 0), datetime.datetime(2022, 2, 15, 0, 0), datetime.datetime(2022, 3, 11, 0, 0), datetime.datetime(2022, 12, 5, 0, 0), datetime.datetime(2023, 1, 26, 0, 0), datetime.datetime(2023, 1, 2, 0, 0), datetime.datetime(2023, 1, 20, 0, 0), datetime.datetime(2023, 12, 15, 0, 0), datetime.datetime(2023, 1, 31, 0, 0), datetime.datetime(2022, 2, 9, 0, 0), datetime.datetime(2022, 4, 18, 0, 0), datetime.datetime(2023, 1, 5, 0, 0), datetime.datetime(2023, 5, 3, 0, 0), datetime.datetime(2023, 9, 5, 0, 0), datetime.datetime(2022, 9, 13, 0, 0), datetime.datetime(2023, 7, 7, 0, 0), datetime.datetime(2023, 5, 23, 0, 0), datetime.datetime(2023, 10, 29, 0, 0), datetime.datetime(2022, 9, 19, 0, 0), datetime.datetime(2023, 5, 24, 0, 0), datetime.datetime(2022, 4, 16, 0, 0), datetime.datetime(2022, 3, 3, 0, 0), datetime.datetime(2022, 8, 12, 0, 0), datetime.datetime(2022, 4, 18, 0, 0), datetime.datetime(2023, 10, 14, 0, 0), datetime.datetime(2022, 3, 10, 0, 0), datetime.datetime(2023, 5, 16, 0, 0), datetime.datetime(2022, 4, 17, 0, 0), datetime.datetime(2022, 11, 27, 0, 0), datetime.datetime(2022, 10, 3, 0, 0), datetime.datetime(2022, 8, 5, 0, 0), datetime.datetime(2022, 3, 11, 0, 0), datetime.datetime(2023, 3, 14, 0, 0), datetime.datetime(2023, 8, 9, 0, 0), datetime.datetime(2023, 10, 21, 0, 0), datetime.datetime(2023, 1, 27, 0, 0), datetime.datetime(2023, 11, 24, 0, 0), datetime.datetime(2023, 8, 21, 0, 0), datetime.datetime(2023, 5, 7, 0, 0), datetime.datetime(2022, 12, 11, 0, 0), datetime.datetime(2023, 1, 10, 0, 0), datetime.datetime(2022, 7, 6, 0, 0), datetime.datetime(2022, 1, 22, 0, 0), datetime.datetime(2022, 10, 30, 0, 0), datetime.datetime(2023, 11, 8, 0, 0), datetime.datetime(2022, 6, 19, 0, 0), datetime.datetime(2023, 6, 22, 0, 0), datetime.datetime(2022, 4, 21, 0, 0), datetime.datetime(2023, 11, 13, 0, 0), datetime.datetime(2023, 4, 14, 0, 0), datetime.datetime(2022, 11, 7, 0, 0), datetime.datetime(2023, 2, 1, 0, 0), datetime.datetime(2022, 5, 23, 0, 0), datetime.datetime(2022, 2, 26, 0, 0), datetime.datetime(2023, 7, 15, 0, 0), datetime.datetime(2022, 2, 14, 0, 0), datetime.datetime(2023, 6, 14, 0, 0), datetime.datetime(2022, 12, 26, 0, 0), datetime.datetime(2023, 1, 22, 0, 0), datetime.datetime(2022, 5, 22, 0, 0), datetime.datetime(2023, 10, 21, 0, 0), datetime.datetime(2022, 12, 19, 0, 0), datetime.datetime(2022, 4, 21, 0, 0), datetime.datetime(2023, 2, 12, 0, 0), datetime.datetime(2022, 10, 29, 0, 0), datetime.datetime(2022, 2, 15, 0, 0), datetime.datetime(2022, 8, 11, 0, 0), datetime.datetime(2023, 5, 19, 0, 0), datetime.datetime(2023, 6, 20, 0, 0), datetime.datetime(2023, 2, 23, 0, 0), datetime.datetime(2022, 5, 20, 0, 0), datetime.datetime(2023, 6, 28, 0, 0), datetime.datetime(2022, 11, 5, 0, 0), datetime.datetime(2022, 3, 18, 0, 0), datetime.datetime(2022, 1, 25, 0, 0), datetime.datetime(2022, 9, 8, 0, 0), datetime.datetime(2022, 12, 27, 0, 0), datetime.datetime(2022, 1, 25, 0, 0), datetime.datetime(2023, 3, 24, 0, 0), datetime.datetime(2022, 8, 3, 0, 0), datetime.datetime(2023, 11, 10, 0, 0), datetime.datetime(2023, 12, 26, 0, 0), datetime.datetime(2022, 8, 2, 0, 0), datetime.datetime(2023, 9, 28, 0, 0), datetime.datetime(2022, 5, 2, 0, 0), datetime.datetime(2023, 3, 18, 0, 0), datetime.datetime(2023, 6, 12, 0, 0), datetime.datetime(2022, 10, 26, 0, 0), datetime.datetime(2022, 4, 26, 0, 0), datetime.datetime(2023, 7, 20, 0, 0), datetime.datetime(2022, 5, 18, 0, 0), datetime.datetime(2022, 12, 18, 0, 0), datetime.datetime(2022, 1, 1, 0, 0), datetime.datetime(2023, 4, 23, 0, 0), datetime.datetime(2023, 8, 20, 0, 0), datetime.datetime(2022, 8, 5, 0, 0), datetime.datetime(2022, 10, 28, 0, 0), datetime.datetime(2023, 10, 4, 0, 0), datetime.datetime(2023, 12, 11, 0, 0), datetime.datetime(2022, 10, 18, 0, 0), datetime.datetime(2022, 12, 20, 0, 0), datetime.datetime(2022, 10, 24, 0, 0), datetime.datetime(2023, 9, 27, 0, 0), datetime.datetime(2022, 3, 4, 0, 0), datetime.datetime(2023, 4, 28, 0, 0), datetime.datetime(2022, 3, 21, 0, 0), datetime.datetime(2022, 8, 5, 0, 0), datetime.datetime(2023, 1, 28, 0, 0), datetime.datetime(2023, 6, 23, 0, 0), datetime.datetime(2022, 10, 8, 0, 0), datetime.datetime(2022, 8, 2, 0, 0), datetime.datetime(2022, 1, 15, 0, 0), datetime.datetime(2022, 9, 5, 0, 0), datetime.datetime(2023, 10, 11, 0, 0), datetime.datetime(2023, 7, 22, 0, 0), datetime.datetime(2022, 11, 8, 0, 0), datetime.datetime(2023, 10, 3, 0, 0), datetime.datetime(2023, 11, 30, 0, 0), datetime.datetime(2022, 4, 3, 0, 0), datetime.datetime(2022, 6, 2, 0, 0), datetime.datetime(2023, 11, 6, 0, 0), datetime.datetime(2022, 11, 23, 0, 0), datetime.datetime(2023, 6, 1, 0, 0), datetime.datetime(2022, 2, 12, 0, 0), datetime.datetime(2023, 9, 21, 0, 0), datetime.datetime(2022, 10, 19, 0, 0), datetime.datetime(2023, 1, 4, 0, 0), datetime.datetime(2023, 11, 9, 0, 0), datetime.datetime(2023, 1, 4, 0, 0), datetime.datetime(2022, 1, 1, 0, 0), datetime.datetime(2023, 3, 17, 0, 0), datetime.datetime(2022, 11, 7, 0, 0), datetime.datetime(2022, 4, 24, 0, 0), datetime.datetime(2022, 4, 3, 0, 0), datetime.datetime(2023, 6, 7, 0, 0), datetime.datetime(2022, 1, 11, 0, 0), datetime.datetime(2022, 2, 14, 0, 0), datetime.datetime(2023, 2, 19, 0, 0), datetime.datetime(2022, 12, 24, 0, 0), datetime.datetime(2022, 1, 13, 0, 0), datetime.datetime(2022, 10, 22, 0, 0), datetime.datetime(2023, 11, 20, 0, 0), datetime.datetime(2023, 7, 17, 0, 0), datetime.datetime(2023, 8, 23, 0, 0), datetime.datetime(2023, 8, 29, 0, 0), datetime.datetime(2022, 6, 4, 0, 0), datetime.datetime(2023, 4, 4, 0, 0), datetime.datetime(2023, 4, 23, 0, 0), datetime.datetime(2022, 3, 22, 0, 0), datetime.datetime(2022, 5, 11, 0, 0), datetime.datetime(2022, 6, 1, 0, 0), datetime.datetime(2023, 9, 15, 0, 0), datetime.datetime(2023, 11, 26, 0, 0), datetime.datetime(2022, 2, 24, 0, 0), datetime.datetime(2023, 12, 13, 0, 0), datetime.datetime(2022, 8, 25, 0, 0), datetime.datetime(2023, 12, 6, 0, 0), datetime.datetime(2023, 3, 21, 0, 0), datetime.datetime(2022, 9, 30, 0, 0), datetime.datetime(2023, 1, 23, 0, 0), datetime.datetime(2023, 9, 15, 0, 0), datetime.datetime(2022, 9, 27, 0, 0), datetime.datetime(2023, 1, 8, 0, 0), datetime.datetime(2023, 8, 24, 0, 0), datetime.datetime(2022, 8, 12, 0, 0), datetime.datetime(2022, 2, 26, 0, 0), datetime.datetime(2022, 2, 16, 0, 0), datetime.datetime(2023, 10, 27, 0, 0), datetime.datetime(2023, 8, 23, 0, 0), datetime.datetime(2022, 9, 20, 0, 0), datetime.datetime(2022, 1, 13, 0, 0), datetime.datetime(2023, 10, 22, 0, 0), datetime.datetime(2023, 7, 31, 0, 0), datetime.datetime(2023, 8, 12, 0, 0), datetime.datetime(2022, 1, 13, 0, 0), datetime.datetime(2023, 5, 7, 0, 0), datetime.datetime(2023, 7, 25, 0, 0), datetime.datetime(2023, 1, 9, 0, 0), datetime.datetime(2023, 4, 4, 0, 0), datetime.datetime(2022, 1, 26, 0, 0), datetime.datetime(2023, 7, 24, 0, 0), datetime.datetime(2023, 12, 13, 0, 0), datetime.datetime(2023, 12, 4, 0, 0), datetime.datetime(2023, 5, 18, 0, 0), datetime.datetime(2023, 3, 9, 0, 0), datetime.datetime(2023, 7, 4, 0, 0), datetime.datetime(2023, 3, 14, 0, 0), datetime.datetime(2022, 3, 15, 0, 0), datetime.datetime(2023, 4, 25, 0, 0), datetime.datetime(2023, 12, 26, 0, 0), datetime.datetime(2023, 7, 24, 0, 0), datetime.datetime(2022, 6, 6, 0, 0), datetime.datetime(2022, 11, 29, 0, 0), datetime.datetime(2022, 12, 10, 0, 0), datetime.datetime(2022, 12, 19, 0, 0), datetime.datetime(2022, 4, 12, 0, 0), datetime.datetime(2022, 10, 8, 0, 0), datetime.datetime(2023, 2, 12, 0, 0), datetime.datetime(2022, 10, 10, 0, 0), datetime.datetime(2022, 10, 18, 0, 0), datetime.datetime(2022, 9, 2, 0, 0), datetime.datetime(2023, 12, 18, 0, 0), datetime.datetime(2022, 4, 26, 0, 0), datetime.datetime(2022, 10, 9, 0, 0), datetime.datetime(2022, 12, 1, 0, 0), datetime.datetime(2023, 1, 27, 0, 0), datetime.datetime(2023, 5, 20, 0, 0), datetime.datetime(2022, 4, 10, 0, 0), datetime.datetime(2022, 1, 8, 0, 0), datetime.datetime(2023, 7, 27, 0, 0), datetime.datetime(2023, 5, 2, 0, 0), datetime.datetime(2022, 12, 15, 0, 0), datetime.datetime(2023, 3, 9, 0, 0), datetime.datetime(2022, 9, 20, 0, 0), datetime.datetime(2022, 3, 29, 0, 0), datetime.datetime(2023, 12, 30, 0, 0), datetime.datetime(2022, 9, 5, 0, 0), datetime.datetime(2023, 2, 19, 0, 0), datetime.datetime(2023, 4, 18, 0, 0), datetime.datetime(2023, 5, 14, 0, 0), datetime.datetime(2023, 1, 25, 0, 0), datetime.datetime(2022, 3, 11, 0, 0), datetime.datetime(2022, 3, 7, 0, 0), datetime.datetime(2022, 7, 18, 0, 0), datetime.datetime(2022, 2, 26, 0, 0), datetime.datetime(2022, 9, 21, 0, 0), datetime.datetime(2023, 7, 26, 0, 0), datetime.datetime(2022, 3, 15, 0, 0), datetime.datetime(2022, 8, 15, 0, 0), datetime.datetime(2023, 12, 24, 0, 0), datetime.datetime(2023, 11, 16, 0, 0), datetime.datetime(2023, 8, 22, 0, 0), datetime.datetime(2023, 2, 21, 0, 0), datetime.datetime(2022, 10, 8, 0, 0), datetime.datetime(2022, 4, 17, 0, 0), datetime.datetime(2023, 2, 14, 0, 0), datetime.datetime(2023, 10, 6, 0, 0), datetime.datetime(2022, 3, 31, 0, 0), datetime.datetime(2022, 10, 3, 0, 0), datetime.datetime(2022, 11, 4, 0, 0), datetime.datetime(2022, 7, 16, 0, 0), datetime.datetime(2023, 3, 23, 0, 0), datetime.datetime(2023, 4, 20, 0, 0), datetime.datetime(2022, 11, 22, 0, 0), datetime.datetime(2022, 1, 7, 0, 0), datetime.datetime(2022, 6, 18, 0, 0), datetime.datetime(2023, 8, 19, 0, 0), datetime.datetime(2023, 3, 23, 0, 0), datetime.datetime(2022, 5, 4, 0, 0), datetime.datetime(2022, 6, 28, 0, 0), datetime.datetime(2022, 8, 20, 0, 0), datetime.datetime(2023, 4, 15, 0, 0), datetime.datetime(2023, 2, 6, 0, 0), datetime.datetime(2022, 11, 19, 0, 0), datetime.datetime(2022, 6, 11, 0, 0), datetime.datetime(2023, 6, 1, 0, 0), datetime.datetime(2023, 5, 6, 0, 0), datetime.datetime(2023, 4, 23, 0, 0), datetime.datetime(2022, 1, 7, 0, 0), datetime.datetime(2023, 5, 1, 0, 0), datetime.datetime(2022, 2, 27, 0, 0), datetime.datetime(2022, 11, 21, 0, 0), datetime.datetime(2023, 7, 21, 0, 0), datetime.datetime(2022, 9, 12, 0, 0), datetime.datetime(2023, 6, 13, 0, 0), datetime.datetime(2022, 9, 30, 0, 0), datetime.datetime(2023, 8, 25, 0, 0), datetime.datetime(2022, 1, 24, 0, 0), datetime.datetime(2022, 8, 28, 0, 0), datetime.datetime(2023, 3, 18, 0, 0), datetime.datetime(2022, 2, 5, 0, 0), datetime.datetime(2022, 10, 28, 0, 0), datetime.datetime(2023, 5, 26, 0, 0), datetime.datetime(2022, 2, 9, 0, 0), datetime.datetime(2023, 1, 16, 0, 0), datetime.datetime(2023, 9, 24, 0, 0), datetime.datetime(2023, 10, 1, 0, 0), datetime.datetime(2023, 5, 18, 0, 0), datetime.datetime(2023, 8, 12, 0, 0), datetime.datetime(2023, 9, 22, 0, 0), datetime.datetime(2023, 1, 1, 0, 0), datetime.datetime(2023, 10, 28, 0, 0), datetime.datetime(2022, 11, 29, 0, 0), datetime.datetime(2022, 1, 17, 0, 0), datetime.datetime(2023, 2, 12, 0, 0), datetime.datetime(2022, 7, 6, 0, 0), datetime.datetime(2023, 8, 24, 0, 0), datetime.datetime(2022, 1, 6, 0, 0), datetime.datetime(2022, 10, 22, 0, 0), datetime.datetime(2022, 12, 7, 0, 0), datetime.datetime(2023, 6, 19, 0, 0), datetime.datetime(2023, 8, 25, 0, 0), datetime.datetime(2022, 9, 26, 0, 0), datetime.datetime(2022, 10, 25, 0, 0), datetime.datetime(2023, 7, 23, 0, 0), datetime.datetime(2023, 5, 16, 0, 0), datetime.datetime(2022, 10, 25, 0, 0), datetime.datetime(2022, 11, 22, 0, 0), datetime.datetime(2023, 3, 8, 0, 0), datetime.datetime(2023, 4, 25, 0, 0), datetime.datetime(2023, 11, 24, 0, 0), datetime.datetime(2023, 1, 17, 0, 0), datetime.datetime(2022, 10, 25, 0, 0), datetime.datetime(2022, 4, 27, 0, 0), datetime.datetime(2022, 9, 27, 0, 0), datetime.datetime(2023, 5, 19, 0, 0), datetime.datetime(2022, 9, 22, 0, 0), datetime.datetime(2023, 9, 26, 0, 0), datetime.datetime(2022, 6, 27, 0, 0), datetime.datetime(2023, 9, 18, 0, 0), datetime.datetime(2023, 3, 25, 0, 0), datetime.datetime(2023, 12, 18, 0, 0), datetime.datetime(2023, 12, 6, 0, 0), datetime.datetime(2022, 3, 1, 0, 0), datetime.datetime(2022, 8, 10, 0, 0), datetime.datetime(2022, 4, 18, 0, 0), datetime.datetime(2023, 4, 18, 0, 0), datetime.datetime(2023, 6, 19, 0, 0), datetime.datetime(2022, 8, 6, 0, 0), datetime.datetime(2022, 10, 1, 0, 0), datetime.datetime(2022, 9, 11, 0, 0), datetime.datetime(2022, 4, 14, 0, 0), datetime.datetime(2023, 11, 26, 0, 0), datetime.datetime(2023, 4, 9, 0, 0), datetime.datetime(2023, 4, 16, 0, 0), datetime.datetime(2023, 8, 5, 0, 0), datetime.datetime(2022, 2, 15, 0, 0), datetime.datetime(2022, 6, 6, 0, 0), datetime.datetime(2023, 3, 4, 0, 0), datetime.datetime(2023, 7, 23, 0, 0), datetime.datetime(2023, 10, 19, 0, 0), datetime.datetime(2023, 11, 25, 0, 0), datetime.datetime(2023, 9, 23, 0, 0), datetime.datetime(2023, 7, 15, 0, 0), datetime.datetime(2022, 9, 9, 0, 0), datetime.datetime(2023, 12, 24, 0, 0), datetime.datetime(2023, 1, 7, 0, 0), datetime.datetime(2022, 7, 4, 0, 0), datetime.datetime(2022, 10, 31, 0, 0), datetime.datetime(2022, 3, 23, 0, 0), datetime.datetime(2023, 10, 14, 0, 0), datetime.datetime(2023, 12, 6, 0, 0), datetime.datetime(2022, 12, 1, 0, 0), datetime.datetime(2023, 2, 3, 0, 0), datetime.datetime(2023, 1, 7, 0, 0), datetime.datetime(2023, 5, 28, 0, 0), datetime.datetime(2022, 7, 1, 0, 0), datetime.datetime(2022, 10, 5, 0, 0), datetime.datetime(2022, 4, 30, 0, 0), datetime.datetime(2022, 6, 17, 0, 0), datetime.datetime(2023, 8, 9, 0, 0), datetime.datetime(2023, 6, 24, 0, 0), datetime.datetime(2023, 1, 8, 0, 0), datetime.datetime(2023, 11, 23, 0, 0), datetime.datetime(2022, 1, 17, 0, 0), datetime.datetime(2023, 2, 24, 0, 0), datetime.datetime(2023, 2, 19, 0, 0), datetime.datetime(2023, 3, 7, 0, 0), datetime.datetime(2022, 10, 15, 0, 0), datetime.datetime(2022, 3, 17, 0, 0), datetime.datetime(2022, 8, 14, 0, 0), datetime.datetime(2022, 2, 1, 0, 0), datetime.datetime(2023, 7, 18, 0, 0), datetime.datetime(2023, 8, 29, 0, 0), datetime.datetime(2022, 12, 3, 0, 0), datetime.datetime(2022, 1, 6, 0, 0), datetime.datetime(2023, 1, 13, 0, 0), datetime.datetime(2022, 12, 13, 0, 0), datetime.datetime(2023, 6, 18, 0, 0), datetime.datetime(2023, 1, 25, 0, 0), datetime.datetime(2023, 10, 1, 0, 0), datetime.datetime(2023, 10, 19, 0, 0), datetime.datetime(2022, 6, 10, 0, 0), datetime.datetime(2022, 7, 8, 0, 0), datetime.datetime(2022, 6, 23, 0, 0), datetime.datetime(2023, 9, 3, 0, 0), datetime.datetime(2023, 11, 17, 0, 0), datetime.datetime(2023, 1, 25, 0, 0), datetime.datetime(2022, 1, 8, 0, 0), datetime.datetime(2022, 5, 21, 0, 0), datetime.datetime(2023, 1, 16, 0, 0), datetime.datetime(2023, 9, 26, 0, 0), datetime.datetime(2022, 7, 29, 0, 0), datetime.datetime(2023, 11, 26, 0, 0), datetime.datetime(2022, 4, 24, 0, 0), datetime.datetime(2022, 4, 13, 0, 0), datetime.datetime(2022, 1, 1, 0, 0), datetime.datetime(2023, 8, 5, 0, 0), datetime.datetime(2022, 7, 2, 0, 0), datetime.datetime(2022, 6, 4, 0, 0), datetime.datetime(2023, 6, 24, 0, 0), datetime.datetime(2023, 12, 12, 0, 0), datetime.datetime(2023, 6, 24, 0, 0), datetime.datetime(2022, 7, 2, 0, 0), datetime.datetime(2023, 9, 1, 0, 0), datetime.datetime(2022, 2, 7, 0, 0), datetime.datetime(2022, 1, 30, 0, 0), datetime.datetime(2023, 2, 2, 0, 0), datetime.datetime(2023, 12, 16, 0, 0), datetime.datetime(2022, 2, 4, 0, 0), datetime.datetime(2022, 4, 2, 0, 0), datetime.datetime(2022, 9, 15, 0, 0), datetime.datetime(2023, 6, 17, 0, 0), datetime.datetime(2022, 2, 6, 0, 0), datetime.datetime(2022, 6, 11, 0, 0), datetime.datetime(2023, 11, 28, 0, 0), datetime.datetime(2023, 5, 14, 0, 0), datetime.datetime(2023, 7, 15, 0, 0), datetime.datetime(2022, 2, 20, 0, 0), datetime.datetime(2022, 7, 13, 0, 0), datetime.datetime(2023, 5, 30, 0, 0), datetime.datetime(2023, 1, 21, 0, 0), datetime.datetime(2023, 8, 29, 0, 0), datetime.datetime(2022, 6, 4, 0, 0), datetime.datetime(2023, 8, 4, 0, 0), datetime.datetime(2022, 9, 14, 0, 0), datetime.datetime(2022, 10, 21, 0, 0), datetime.datetime(2022, 6, 20, 0, 0)]\n"
     ]
    }
   ],
   "source": [
    "#Use the delta and alpha variables with the timedelta and random functions and save them to two lists which will be the base of your new columns: customer_first_purchase and customer_last_purchase\n",
    "customer_first_purchase, customer_last_purchase = [],[]\n",
    "for i in range(1000):\n",
    "    first_purchase = start_date + timedelta(days=random.randrange (0,alpha.days))\n",
    "    last_purchase = start_date + timedelta(days=random.randrange(alpha.days, delta.days))\n",
    "    customer_first_purchase.append(first_purchase)\n",
    "    customer_last_purchase.append(last_purchase)\n",
    "print(customer_first_purchase, customer_last_purchase) \n",
    "\n",
    "#By creating two empty lists and a for loop, we are able to generate random values between our alpha and delta calculations which are based on the start_date and end_date variables."
   ]
  },
  {
   "cell_type": "code",
   "execution_count": 9,
   "metadata": {},
   "outputs": [],
   "source": [
    "#Great! We are able to see the random outputs from the previous code, let's see if we can use the .head() function to view the customer_first_purchase and customer_last_purchase in a dataframe\n",
    "merged_data.head()\n",
    "merged_data['first_purchase'] = customer_first_purchase"
   ]
  },
  {
   "cell_type": "code",
   "execution_count": 10,
   "metadata": {},
   "outputs": [],
   "source": [
    "merged_data.head()\n",
    "merged_data['last_purchase'] = customer_last_purchase"
   ]
  },
  {
   "cell_type": "code",
   "execution_count": 11,
   "metadata": {},
   "outputs": [
    {
     "data": {
      "text/html": [
       "<div>\n",
       "<style scoped>\n",
       "    .dataframe tbody tr th:only-of-type {\n",
       "        vertical-align: middle;\n",
       "    }\n",
       "\n",
       "    .dataframe tbody tr th {\n",
       "        vertical-align: top;\n",
       "    }\n",
       "\n",
       "    .dataframe thead th {\n",
       "        text-align: right;\n",
       "    }\n",
       "</style>\n",
       "<table border=\"1\" class=\"dataframe\">\n",
       "  <thead>\n",
       "    <tr style=\"text-align: right;\">\n",
       "      <th></th>\n",
       "      <th>customer_id</th>\n",
       "      <th>Age</th>\n",
       "      <th>Gender</th>\n",
       "      <th>Item_Purchased</th>\n",
       "      <th>Category</th>\n",
       "      <th>Purchase_Amount_USD</th>\n",
       "      <th>Location</th>\n",
       "      <th>Size</th>\n",
       "      <th>Color</th>\n",
       "      <th>Season</th>\n",
       "      <th>...</th>\n",
       "      <th>tiktok_campaign</th>\n",
       "      <th>tiktok_cpa</th>\n",
       "      <th>tiktok_conversion</th>\n",
       "      <th>tiktok_dates</th>\n",
       "      <th>email_campaign</th>\n",
       "      <th>email_cpa</th>\n",
       "      <th>email_conversion</th>\n",
       "      <th>email_dates</th>\n",
       "      <th>first_purchase</th>\n",
       "      <th>last_purchase</th>\n",
       "    </tr>\n",
       "  </thead>\n",
       "  <tbody>\n",
       "    <tr>\n",
       "      <th>0</th>\n",
       "      <td>1</td>\n",
       "      <td>55</td>\n",
       "      <td>Male</td>\n",
       "      <td>Blouse</td>\n",
       "      <td>Clothing</td>\n",
       "      <td>53</td>\n",
       "      <td>Kentucky</td>\n",
       "      <td>L</td>\n",
       "      <td>Gray</td>\n",
       "      <td>Winter</td>\n",
       "      <td>...</td>\n",
       "      <td>cross product</td>\n",
       "      <td>$5.07</td>\n",
       "      <td>False</td>\n",
       "      <td>7/18/22</td>\n",
       "      <td>abandoned cart</td>\n",
       "      <td>$3.00</td>\n",
       "      <td>True</td>\n",
       "      <td>10/29/22</td>\n",
       "      <td>2021-09-29</td>\n",
       "      <td>2022-04-02</td>\n",
       "    </tr>\n",
       "    <tr>\n",
       "      <th>1</th>\n",
       "      <td>2</td>\n",
       "      <td>19</td>\n",
       "      <td>Male</td>\n",
       "      <td>Sweater</td>\n",
       "      <td>Clothing</td>\n",
       "      <td>64</td>\n",
       "      <td>Maine</td>\n",
       "      <td>L</td>\n",
       "      <td>Maroon</td>\n",
       "      <td>Winter</td>\n",
       "      <td>...</td>\n",
       "      <td>frequency purchase</td>\n",
       "      <td>$0.31</td>\n",
       "      <td>False</td>\n",
       "      <td>6/7/22</td>\n",
       "      <td>welcome</td>\n",
       "      <td>$6.14</td>\n",
       "      <td>True</td>\n",
       "      <td>5/24/22</td>\n",
       "      <td>2020-06-10</td>\n",
       "      <td>2022-09-18</td>\n",
       "    </tr>\n",
       "    <tr>\n",
       "      <th>2</th>\n",
       "      <td>3</td>\n",
       "      <td>50</td>\n",
       "      <td>Male</td>\n",
       "      <td>Jeans</td>\n",
       "      <td>Clothing</td>\n",
       "      <td>73</td>\n",
       "      <td>Massachusetts</td>\n",
       "      <td>S</td>\n",
       "      <td>Maroon</td>\n",
       "      <td>Spring</td>\n",
       "      <td>...</td>\n",
       "      <td>frequency purchase</td>\n",
       "      <td>$3.88</td>\n",
       "      <td>False</td>\n",
       "      <td>10/16/22</td>\n",
       "      <td>cross product</td>\n",
       "      <td>$8.11</td>\n",
       "      <td>True</td>\n",
       "      <td>8/1/22</td>\n",
       "      <td>2021-06-12</td>\n",
       "      <td>2023-06-15</td>\n",
       "    </tr>\n",
       "    <tr>\n",
       "      <th>3</th>\n",
       "      <td>4</td>\n",
       "      <td>21</td>\n",
       "      <td>Male</td>\n",
       "      <td>Sandals</td>\n",
       "      <td>Footwear</td>\n",
       "      <td>90</td>\n",
       "      <td>Rhode Island</td>\n",
       "      <td>M</td>\n",
       "      <td>Maroon</td>\n",
       "      <td>Spring</td>\n",
       "      <td>...</td>\n",
       "      <td>we missed you</td>\n",
       "      <td>$5.57</td>\n",
       "      <td>True</td>\n",
       "      <td>7/4/22</td>\n",
       "      <td>welcome</td>\n",
       "      <td>$7.44</td>\n",
       "      <td>True</td>\n",
       "      <td>1/12/22</td>\n",
       "      <td>2020-11-18</td>\n",
       "      <td>2022-08-27</td>\n",
       "    </tr>\n",
       "    <tr>\n",
       "      <th>4</th>\n",
       "      <td>5</td>\n",
       "      <td>45</td>\n",
       "      <td>Male</td>\n",
       "      <td>Blouse</td>\n",
       "      <td>Clothing</td>\n",
       "      <td>49</td>\n",
       "      <td>Oregon</td>\n",
       "      <td>M</td>\n",
       "      <td>Turquoise</td>\n",
       "      <td>Spring</td>\n",
       "      <td>...</td>\n",
       "      <td>frequency purchase</td>\n",
       "      <td>$0.76</td>\n",
       "      <td>True</td>\n",
       "      <td>6/24/22</td>\n",
       "      <td>welcome</td>\n",
       "      <td>$7.29</td>\n",
       "      <td>False</td>\n",
       "      <td>1/29/22</td>\n",
       "      <td>2020-12-31</td>\n",
       "      <td>2023-12-09</td>\n",
       "    </tr>\n",
       "  </tbody>\n",
       "</table>\n",
       "<p>5 rows × 31 columns</p>\n",
       "</div>"
      ],
      "text/plain": [
       "   customer_id  Age Gender Item_Purchased  Category  Purchase_Amount_USD  \\\n",
       "0            1   55   Male         Blouse  Clothing                   53   \n",
       "1            2   19   Male        Sweater  Clothing                   64   \n",
       "2            3   50   Male          Jeans  Clothing                   73   \n",
       "3            4   21   Male        Sandals  Footwear                   90   \n",
       "4            5   45   Male         Blouse  Clothing                   49   \n",
       "\n",
       "        Location Size      Color  Season  ...     tiktok_campaign tiktok_cpa  \\\n",
       "0       Kentucky    L       Gray  Winter  ...       cross product     $5.07    \n",
       "1          Maine    L     Maroon  Winter  ...  frequency purchase     $0.31    \n",
       "2  Massachusetts    S     Maroon  Spring  ...  frequency purchase     $3.88    \n",
       "3   Rhode Island    M     Maroon  Spring  ...       we missed you     $5.57    \n",
       "4         Oregon    M  Turquoise  Spring  ...  frequency purchase     $0.76    \n",
       "\n",
       "  tiktok_conversion tiktok_dates  email_campaign email_cpa  email_conversion  \\\n",
       "0             False      7/18/22  abandoned cart    $3.00               True   \n",
       "1             False       6/7/22         welcome    $6.14               True   \n",
       "2             False     10/16/22   cross product    $8.11               True   \n",
       "3              True       7/4/22         welcome    $7.44               True   \n",
       "4              True      6/24/22         welcome    $7.29              False   \n",
       "\n",
       "  email_dates first_purchase last_purchase  \n",
       "0    10/29/22     2021-09-29    2022-04-02  \n",
       "1     5/24/22     2020-06-10    2022-09-18  \n",
       "2      8/1/22     2021-06-12    2023-06-15  \n",
       "3     1/12/22     2020-11-18    2022-08-27  \n",
       "4     1/29/22     2020-12-31    2023-12-09  \n",
       "\n",
       "[5 rows x 31 columns]"
      ]
     },
     "execution_count": 11,
     "metadata": {},
     "output_type": "execute_result"
    }
   ],
   "source": [
    "merged_data.to_sql('merged_data', conn, index=False, if_exists='replace')\n",
    "merged_data.head()"
   ]
  },
  {
   "cell_type": "code",
   "execution_count": 12,
   "metadata": {},
   "outputs": [
    {
     "name": "stdout",
     "output_type": "stream",
     "text": [
      "customer_id                          int64\n",
      "Age                                  int64\n",
      "Gender                              object\n",
      "Item_Purchased                      object\n",
      "Category                            object\n",
      "Purchase_Amount_USD                  int64\n",
      "Location                            object\n",
      "Size                                object\n",
      "Color                               object\n",
      "Season                              object\n",
      "Review_Rating                      float64\n",
      "Subscription_Status                 object\n",
      "Payment_Method                      object\n",
      "Shipping_Type                       object\n",
      "Discount_Applied                    object\n",
      "Promo_Code_Used                     object\n",
      "Previous_Purchases                   int64\n",
      "Preferred_Payment_Method            object\n",
      "Frequency_of_Purchases              object\n",
      "first_name                          object\n",
      "last_name                           object\n",
      "tiktok_campaign                     object\n",
      "tiktok_cpa                          object\n",
      "tiktok_conversion                     bool\n",
      "tiktok_dates                        object\n",
      "email_campaign                      object\n",
      "email_cpa                           object\n",
      "email_conversion                      bool\n",
      "email_dates                         object\n",
      "first_purchase              datetime64[ns]\n",
      "last_purchase               datetime64[ns]\n",
      "dtype: object\n"
     ]
    }
   ],
   "source": [
    "# Double check datatypes will be in a codable format\n",
    "column_data_types = merged_data.dtypes\n",
    "print(column_data_types)"
   ]
  },
  {
   "cell_type": "markdown",
   "metadata": {},
   "source": [
    "To calculate Cusotmer Lifetime Value, let's go ahead and extrac the month out of the columns First_Purchase and Last_Purchase. This will make things easier when it comes to performing your marketing analysis. "
   ]
  },
  {
   "cell_type": "code",
   "execution_count": 13,
   "metadata": {},
   "outputs": [
    {
     "name": "stdout",
     "output_type": "stream",
     "text": [
      "0       9\n",
      "1       6\n",
      "2       6\n",
      "3      11\n",
      "4      12\n",
      "       ..\n",
      "995    12\n",
      "996     8\n",
      "997     1\n",
      "998     4\n",
      "999     3\n",
      "Name: first_purchase_month, Length: 1000, dtype: int32\n"
     ]
    }
   ],
   "source": [
    "merged_data['first_purchase_month'] = merged_data['first_purchase'].dt.month\n",
    "print(merged_data['first_purchase_month'])"
   ]
  },
  {
   "cell_type": "code",
   "execution_count": 14,
   "metadata": {},
   "outputs": [
    {
     "name": "stdout",
     "output_type": "stream",
     "text": [
      "0       4\n",
      "1       9\n",
      "2       6\n",
      "3       8\n",
      "4      12\n",
      "       ..\n",
      "995     6\n",
      "996     8\n",
      "997     9\n",
      "998    10\n",
      "999     6\n",
      "Name: last_purchase_month, Length: 1000, dtype: int32\n"
     ]
    }
   ],
   "source": [
    "merged_data['last_purchase_month'] = merged_data['last_purchase'].dt.month\n",
    "print(merged_data['last_purchase_month'])"
   ]
  },
  {
   "cell_type": "markdown",
   "metadata": {},
   "source": [
    "It looks like the CPA fields are reading as objects when we need them to read as floats since they are associated with a dollar amount. Let's change that:"
   ]
  },
  {
   "cell_type": "code",
   "execution_count": 15,
   "metadata": {},
   "outputs": [
    {
     "name": "stdout",
     "output_type": "stream",
     "text": [
      "customer_id                          int64\n",
      "Age                                  int64\n",
      "Gender                              object\n",
      "Item_Purchased                      object\n",
      "Category                            object\n",
      "Purchase_Amount_USD                  int64\n",
      "Location                            object\n",
      "Size                                object\n",
      "Color                               object\n",
      "Season                              object\n",
      "Review_Rating                      float64\n",
      "Subscription_Status                 object\n",
      "Payment_Method                      object\n",
      "Shipping_Type                       object\n",
      "Discount_Applied                    object\n",
      "Promo_Code_Used                     object\n",
      "Previous_Purchases                   int64\n",
      "Preferred_Payment_Method            object\n",
      "Frequency_of_Purchases              object\n",
      "first_name                          object\n",
      "last_name                           object\n",
      "tiktok_campaign                     object\n",
      "tiktok_cpa                         float64\n",
      "tiktok_conversion                     bool\n",
      "tiktok_dates                        object\n",
      "email_campaign                      object\n",
      "email_cpa                          float64\n",
      "email_conversion                      bool\n",
      "email_dates                         object\n",
      "first_purchase              datetime64[ns]\n",
      "last_purchase               datetime64[ns]\n",
      "first_purchase_month                 int32\n",
      "last_purchase_month                  int32\n",
      "dtype: object\n"
     ]
    }
   ],
   "source": [
    "# Remove the dollar sign and convert tiktok_cpa to float\n",
    "merged_data['tiktok_cpa'] = merged_data['tiktok_cpa'].replace('[\\$,]', '', regex=True).astype(float)\n",
    "#Remove the dollar sign and convert email_cpa to float\n",
    "merged_data['email_cpa'] = merged_data['email_cpa'].replace('[\\$,]', '', regex=True).astype(float)\n",
    "\n",
    "column_data_types = merged_data.dtypes\n",
    "print(column_data_types)"
   ]
  },
  {
   "cell_type": "markdown",
   "metadata": {},
   "source": [
    "Great! It looks like you passed the first requirement of the interview and your data is clean and populating with the necessary data to start your analysis. \n",
    "\n",
    "Time to start exploring with SQL via another Jupyter notebook. You will need to set your SQL Code to Python variables and run in this file. "
   ]
  }
 ],
 "metadata": {
  "kernelspec": {
   "display_name": "my_env",
   "language": "python",
   "name": "python3"
  },
  "language_info": {
   "codemirror_mode": {
    "name": "ipython",
    "version": 3
   },
   "file_extension": ".py",
   "mimetype": "text/x-python",
   "name": "python",
   "nbconvert_exporter": "python",
   "pygments_lexer": "ipython3",
   "version": "3.11.4"
  },
  "orig_nbformat": 4
 },
 "nbformat": 4,
 "nbformat_minor": 2
}
