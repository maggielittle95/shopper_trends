{
 "cells": [
  {
   "cell_type": "markdown",
   "metadata": {},
   "source": [
    "Prepare data for analysis\n",
    "1. Import pandas \n",
    "2. Import random package\n",
    "3. Read existing .csv file\n",
    "4. Perform join statement on shopping_trends.csv and mock_data.csv"
   ]
  },
  {
   "cell_type": "code",
   "execution_count": 6,
   "metadata": {},
   "outputs": [],
   "source": [
    "import pandas as pd\n",
    "import numpy as np\n",
    "import random\n",
    "import sqlite3"
   ]
  },
  {
   "cell_type": "code",
   "execution_count": 3,
   "metadata": {},
   "outputs": [
    {
     "name": "stdout",
     "output_type": "stream",
     "text": [
      "     customer_id  Age Gender Item Purchased     Category  \\\n",
      "0              1   55   Male         Blouse     Clothing   \n",
      "1              2   19   Male        Sweater     Clothing   \n",
      "2              3   50   Male          Jeans     Clothing   \n",
      "3              4   21   Male        Sandals     Footwear   \n",
      "4              5   45   Male         Blouse     Clothing   \n",
      "..           ...  ...    ...            ...          ...   \n",
      "995          996   44   Male        Jewelry  Accessories   \n",
      "996          997   29   Male        Sandals     Footwear   \n",
      "997          998   64   Male          Pants     Clothing   \n",
      "998          999   51   Male          Shoes     Footwear   \n",
      "999         1000   50   Male          Socks     Clothing   \n",
      "\n",
      "     Purchase Amount (USD)       Location Size      Color  Season  ...  \\\n",
      "0                       53       Kentucky    L       Gray  Winter  ...   \n",
      "1                       64          Maine    L     Maroon  Winter  ...   \n",
      "2                       73  Massachusetts    S     Maroon  Spring  ...   \n",
      "3                       90   Rhode Island    M     Maroon  Spring  ...   \n",
      "4                       49         Oregon    M  Turquoise  Spring  ...   \n",
      "..                     ...            ...  ...        ...     ...  ...   \n",
      "995                     80          Idaho    M    Magenta  Spring  ...   \n",
      "996                     91       Delaware    L     Maroon  Summer  ...   \n",
      "997                     30       Kentucky    M       Cyan  Spring  ...   \n",
      "998                     90    Connecticut    M      White  Spring  ...   \n",
      "999                     28     New Mexico    L      Brown  Spring  ...   \n",
      "\n",
      "     last_name     tiktok_campaign tiktok_cpa tiktok_conversion tiktok_dates  \\\n",
      "0        Krout  frequency purchase      $1.17             False   12/14/2022   \n",
      "1      Vivians  frequency purchase      $5.72             False   01/29/2022   \n",
      "2      Karpman      abandoned cart      $8.64             False   08/10/2022   \n",
      "3      Aistrop       cross product      $9.68              True   01/05/2022   \n",
      "4      Galland       cross product      $0.27              True   09/25/2022   \n",
      "..         ...                 ...        ...               ...          ...   \n",
      "995    Boundey  frequency purchase      $0.55             False   03/23/2022   \n",
      "996    Pinchon      abandoned cart      $7.42              True   06/01/2022   \n",
      "997      Josum             welcome      $6.02              True   04/30/2022   \n",
      "998    Pitford      product launch      $3.70             False   09/23/2022   \n",
      "999   Kaasmann       cross product      $6.56             False   01/11/2022   \n",
      "\n",
      "     email_campaign  email_cpa email_conversion email_dates customer_segment  \n",
      "0     cross product      $1.76             True  11/12/2022            Daily  \n",
      "1     we missed you      $3.82             True   10/7/2022            Never  \n",
      "2     cross product      $4.08            False   1/15/2022           Yearly  \n",
      "3    abandoned cart      $2.21            False   8/15/2022            Daily  \n",
      "4     cross product      $4.12             True   9/13/2022            Often  \n",
      "..              ...        ...              ...         ...              ...  \n",
      "995  product launch      $2.07            False   3/19/2022             Once  \n",
      "996   we missed you      $9.31            False   9/12/2022           Seldom  \n",
      "997  abandoned cart      $6.54            False   9/16/2022            Daily  \n",
      "998         welcome      $1.72             True   1/20/2022           Weekly  \n",
      "999  product launch      $6.30             True  10/22/2022            Often  \n",
      "\n",
      "[1000 rows x 30 columns]\n"
     ]
    }
   ],
   "source": [
    "# Read the two CSV files into DataFrames\n",
    "shopper_trends = pd.read_csv('shopping_trends.csv')\n",
    "mock_data = pd.read_csv('MOCK_DATA.csv')\n",
    "\n",
    "# Merge the DataFrames on the 'Customer_ID' column\n",
    "merged_data = shopper_trends.merge(mock_data, on='customer_id')\n",
    "print(merged_data)"
   ]
  },
  {
   "cell_type": "code",
   "execution_count": null,
   "metadata": {
    "vscode": {
     "languageId": "sql"
    }
   },
   "outputs": [],
   "source": [
    "1. Now you need to write these files to a database. \n",
    "2. It is a best practice to write to a database vs. storing in your memory.\n",
    "3. Your database will need to be able to run queries from the 2 marketing tables"
   ]
  },
  {
   "cell_type": "code",
   "execution_count": null,
   "metadata": {
    "vscode": {
     "languageId": "sql"
    }
   },
   "outputs": [],
   "source": [
    "#Need to read/write .csv files to a table\n",
    "#Use fetchall command?"
   ]
  },
  {
   "cell_type": "code",
   "execution_count": 14,
   "metadata": {},
   "outputs": [],
   "source": [
    "import sqlite3\n",
    "\n",
    "# Connect to the Database\n",
    "conn = sqlite3.connect('cl_shopper_trends.db')\n",
    "\n",
    "# Create cursor object\n",
    "cursor = conn.cursor()\n",
    "\n",
    "# Import table\n",
    "cursor.execute('''\n",
    "CREATE TABLE IF NOT EXISTS shopping_trends (\n",
    "    customer_id INTEGER PRIMARY KEY,\n",
    "    Age INTEGER,\n",
    "    Gender TEXT,\n",
    "    Item_Purchased TEXT,\n",
    "    Category TEXT,\n",
    "    Purchase_Amount_USD INTEGER,\n",
    "    Location TEXT,\n",
    "    Size TEXT,\n",
    "    Color TEXT,\n",
    "    Season TEXT,\n",
    "    Review_Rating REAL,\n",
    "    Subscription_Status BOOLEAN,\n",
    "    Payment_Method TEXT,\n",
    "    Shipping_Type TEXT,\n",
    "    Discount_Applied BOOLEAN,\n",
    "    Promo_Code_Used BOOLEAN,\n",
    "    Previous_Purchases INTEGER,\n",
    "    Preferred_Payment_Method TEXT,\n",
    "    Frequency_of_Purchases TEXT\n",
    ")\n",
    "'''\n",
    ")\n",
    "\n",
    "conn.commit()\n",
    "conn.close()\n"
   ]
  },
  {
   "cell_type": "markdown",
   "metadata": {},
   "source": [
    "1. Great! It looks like you passed the first requirement of the interview and your data is populating. \n",
    "2. Time to start exploring with SQL. \n",
    "3. Feel free to use a demo SQL file to get started exploring the columns, data types, and other trends."
   ]
  }
 ],
 "metadata": {
  "kernelspec": {
   "display_name": "my_env",
   "language": "python",
   "name": "python3"
  },
  "language_info": {
   "codemirror_mode": {
    "name": "ipython",
    "version": 3
   },
   "file_extension": ".py",
   "mimetype": "text/x-python",
   "name": "python",
   "nbconvert_exporter": "python",
   "pygments_lexer": "ipython3",
   "version": "3.11.4"
  },
  "orig_nbformat": 4
 },
 "nbformat": 4,
 "nbformat_minor": 2
}
