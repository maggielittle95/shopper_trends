{
 "cells": [
  {
   "cell_type": "markdown",
   "metadata": {},
   "source": [
    "It looks like the data was in pretty good shape from your last file 'data_cleaning.ipynb.' Now we should move on to answering questions the marketing team has for you in your interview: Customer Segments, Product Information, and Marketing Return on Investment."
   ]
  },
  {
   "cell_type": "markdown",
   "metadata": {},
   "source": [
    "Customer Segment Questions:\n",
    "1. Segment customers based on demographic data (age, gender, location)\n",
    "2. Which demographics represent High Frequency Customers? \n",
    "3. Which demographics represent Low Frequency Customers?\n",
    "4. HF vs. LF customers more likely to use a discount code?\n",
    "5. Average Order Value from High Frequency Customers, AOV for Low Frequency Customers\n",
    "6. What is the Customer Lifetime Value based on 2022 purchasing data?\n",
    "\n",
    "Product Information Questions:\n",
    "1. Which categories have the highest conversion rate? Which products have the highest conversion rate?\n",
    "2. Top seasonality by total sales \n",
    "3. Total sales amount by month and marketing campaign (Which marketing campaigns had the highest total sales?)\n",
    "\n",
    "Marketing Return on Investment:\n",
    "1. Compare CPAs for Tik Tok vs. Email \n",
    "2. Which marketing campaigns had the highest conversions?\n",
    "3. Which demographic had the highest conversion rate?"
   ]
  },
  {
   "cell_type": "code",
   "execution_count": 61,
   "metadata": {},
   "outputs": [],
   "source": [
    "import pandas as pd\n",
    "import numpy as np\n",
    "import random\n",
    "import sqlite3\n",
    "import sqlalchemy"
   ]
  },
  {
   "cell_type": "markdown",
   "metadata": {},
   "source": [
    "You start exploring their customer base via customer demographics - a good place to start would be age, gender and location. "
   ]
  },
  {
   "cell_type": "code",
   "execution_count": 62,
   "metadata": {},
   "outputs": [
    {
     "name": "stdout",
     "output_type": "stream",
     "text": [
      "        Location Customer_Segment  Segment_Count\n",
      "0       Delaware       Adult Male             25\n",
      "1         Nevada       Adult Male             23\n",
      "2      Minnesota       Adult Male             22\n",
      "3       Missouri       Adult Male             22\n",
      "4       Kentucky       Adult Male             21\n",
      "..           ...              ...            ...\n",
      "95    New Jersey       Young Male              2\n",
      "96  Rhode Island       Young Male              2\n",
      "97       Vermont       Young Male              2\n",
      "98     Wisconsin       Young Male              2\n",
      "99        Kansas       Young Male              1\n",
      "\n",
      "[100 rows x 3 columns]\n"
     ]
    }
   ],
   "source": [
    "conn = sqlite3.connect('cl_shopper_trends.db')\n",
    "cursor = conn.cursor()\n",
    "\n",
    "customer_segment_1 = '''\n",
    "    SELECT\n",
    "    Location,\n",
    "    CASE\n",
    "    WHEN Age < 30 AND Gender = 'Female' THEN 'Young Female'\n",
    "    WHEN Age < 30 AND Gender = 'Male' THEN 'Young Male'\n",
    "    WHEN Age >= 30 AND Gender = 'Female' THEN 'Adult Female'\n",
    "    WHEN Age >= 30 AND Gender = 'Male' THEN 'Adult Male'\n",
    "    ELSE 'Other'\n",
    "    END AS Customer_Segment,\n",
    "    COUNT(*) AS Segment_Count\n",
    "    FROM merged_data\n",
    "    GROUP BY Location, Customer_Segment\n",
    "    ORDER BY Segment_Count DESC;\n",
    "    '''\n",
    "customer_segment_1 = pd.read_sql(customer_segment_1, conn)\n",
    "\n",
    "# Display the dataframe\n",
    "print(customer_segment_1)\n",
    "conn.close()"
   ]
  },
  {
   "cell_type": "markdown",
   "metadata": {},
   "source": [
    "Great, so far it looks like our top customer segments for 2022 were Adult Males. \n",
    "By using data from mock_data, let's see if we can categorize our customer segments into High Frequency and Low Frequency segments. "
   ]
  },
  {
   "cell_type": "code",
   "execution_count": 63,
   "metadata": {},
   "outputs": [
    {
     "name": "stdout",
     "output_type": "stream",
     "text": [
      "         Location Customer_Segment  Segment_Count\n",
      "0          Nevada       Adult Male             11\n",
      "1        Delaware       Adult Male             10\n",
      "2            Iowa       Adult Male              9\n",
      "3   Massachusetts       Adult Male              9\n",
      "4           Idaho       Adult Male              8\n",
      "..            ...              ...            ...\n",
      "84   South Dakota       Young Male              1\n",
      "85      Tennessee       Young Male              1\n",
      "86           Utah       Young Male              1\n",
      "87  West Virginia       Young Male              1\n",
      "88        Wyoming       Young Male              1\n",
      "\n",
      "[89 rows x 3 columns]\n"
     ]
    }
   ],
   "source": [
    "conn = sqlite3.connect('cl_shopper_trends.db')\n",
    "cursor = conn.cursor()\n",
    "\n",
    "customer_segment_2 = '''\n",
    "SELECT\n",
    "    Location,\n",
    "    CASE\n",
    "        WHEN Age < 30 AND Gender = 'Female' THEN 'Young Female'\n",
    "        WHEN Age < 30 AND Gender = 'Male' THEN 'Young Male'\n",
    "        WHEN Age >= 30 AND Gender = 'Female' THEN 'Adult Female'\n",
    "        WHEN Age >= 30 AND Gender = 'Male' THEN 'Adult Male'\n",
    "        ELSE 'Other'\n",
    "    END AS Customer_Segment,\n",
    "    COUNT(*) AS Segment_Count\n",
    "FROM merged_data\n",
    "WHERE Frequency_of_Purchases IN (\"Weekly\", \"Biweekly\", \"Monthly\") \n",
    "GROUP BY Location, Customer_Segment\n",
    "ORDER BY Segment_Count DESC;\n",
    "'''\n",
    "customer_segment_2 = pd.read_sql(customer_segment_2, conn)\n",
    "\n",
    "# Display the dataframe\n",
    "print(customer_segment_2)\n",
    "conn.close()"
   ]
  },
  {
   "cell_type": "code",
   "execution_count": 64,
   "metadata": {},
   "outputs": [
    {
     "name": "stdout",
     "output_type": "stream",
     "text": [
      "          Location Customer_Segment  Segment_Count\n",
      "0         Missouri       Adult Male             10\n",
      "1         Oklahoma       Adult Male              9\n",
      "2   South Carolina       Adult Male              9\n",
      "3         Colorado       Adult Male              8\n",
      "4          Florida       Adult Male              8\n",
      "..             ...              ...            ...\n",
      "79            Ohio       Young Male              1\n",
      "80    Pennsylvania       Young Male              1\n",
      "81  South Carolina       Young Male              1\n",
      "82       Tennessee       Young Male              1\n",
      "83      Washington       Young Male              1\n",
      "\n",
      "[84 rows x 3 columns]\n"
     ]
    }
   ],
   "source": [
    "conn = sqlite3.connect('cl_shopper_trends.db')\n",
    "cursor = conn.cursor()\n",
    "\n",
    "customer_segment_3 = '''\n",
    "SELECT\n",
    "    Location,\n",
    "    CASE\n",
    "        WHEN Age < 30 AND Gender = 'Female' THEN 'Young Female'\n",
    "        WHEN Age < 30 AND Gender = 'Male' THEN 'Young Male'\n",
    "        WHEN Age >= 30 AND Gender = 'Female' THEN 'Adult Female'\n",
    "        WHEN Age >= 30 AND Gender = 'Male' THEN 'Adult Male'\n",
    "        ELSE 'Other'\n",
    "    END AS Customer_Segment,\n",
    "    COUNT(*) AS Segment_Count\n",
    "FROM merged_data\n",
    "WHERE Frequency_of_Purchases IN (\"Quarterly\",\"Annually\") \n",
    "GROUP BY Location, Customer_Segment\n",
    "ORDER BY Segment_Count DESC;\n",
    "'''\n",
    "customer_segment_3 = pd.read_sql(customer_segment_3, conn)\n",
    "\n",
    "# Display the dataframe\n",
    "print(customer_segment_3)\n",
    "conn.close()"
   ]
  },
  {
   "cell_type": "code",
   "execution_count": 68,
   "metadata": {},
   "outputs": [
    {
     "name": "stdout",
     "output_type": "stream",
     "text": [
      "  Frequency_of_Purchases Discount_Applied  Frequency_Segment\n",
      "0         Every 3 Months              Yes                151\n",
      "1                 Weekly              Yes                151\n",
      "2               Annually              Yes                148\n",
      "3                Monthly              Yes                145\n",
      "4            Fortnightly              Yes                142\n",
      "5              Quarterly              Yes                132\n",
      "6              Bi-Weekly              Yes                131\n"
     ]
    }
   ],
   "source": [
    "#Customer Segment #4:\n",
    "#Are High Frequency Customers or Low Frequency Customers more likely to use a discount code?\n",
    "#If High Frequency then Frequency_of_Purchases = weekly, biweekly, monthly;  if Low Frequency then Frequency_of_Purchases = quarterly, yearly;SELECT Frequency_of_Purchases, Discount_Applied\n",
    "\n",
    "conn = sqlite3.connect('cl_shopper_trends.db')\n",
    "cursor = conn.cursor()\n",
    "\n",
    "customer_segment_4 = '''\n",
    "SELECT\n",
    "Frequency_of_Purchases,\n",
    "Discount_Applied,\n",
    "COUNT(Frequency_of_Purchases) AS Frequency_Segment\n",
    "FROM\n",
    "merged_data\n",
    "GROUP BY\n",
    "Frequency_of_Purchases, Discount_Applied\n",
    "ORDER BY\n",
    "Frequency_Segment DESC;\n",
    "\n",
    "'''\n",
    "\n",
    "customer_segment_4 = pd.read_sql(customer_segment_4, conn)\n",
    "\n",
    "# Display the dataframe\n",
    "print(customer_segment_4)\n",
    "conn.close()"
   ]
  },
  {
   "cell_type": "markdown",
   "metadata": {},
   "source": [
    "Great, it looks like the Frequency_Segment group Bi-Weekly, Quarterly, and Weekly are the groups most likely to use a discount code applied. "
   ]
  },
  {
   "cell_type": "code",
   "execution_count": 66,
   "metadata": {},
   "outputs": [
    {
     "name": "stdout",
     "output_type": "stream",
     "text": [
      "  Frequency_of_Purchases  AVG (Purchase_Amount_USD)\n",
      "0               Annually                  58.662162\n",
      "1              Bi-Weekly                  59.633588\n",
      "2         Every 3 Months                  61.092715\n",
      "3            Fortnightly                  58.612676\n",
      "4                Monthly                  59.034483\n",
      "5              Quarterly                  61.371212\n",
      "6                 Weekly                  59.271523\n"
     ]
    }
   ],
   "source": [
    "#Customer Segment #5: Average Order Value from High Frequency Customers \n",
    "conn = sqlite3.connect('cl_shopper_trends.db')\n",
    "cursor = conn.cursor()\n",
    "\n",
    "customer_segment_5 = '''\n",
    "SELECT Frequency_of_Purchases, AVG (Purchase_Amount_USD)\n",
    "FROM merged_data\n",
    "GROUP BY Frequency_of_Purchases;\n",
    "'''\n",
    "\n",
    "customer_segment_5 = pd.read_sql(customer_segment_5, conn)\n",
    "print(customer_segment_5)\n",
    "conn.close()"
   ]
  },
  {
   "cell_type": "code",
   "execution_count": 96,
   "metadata": {},
   "outputs": [
    {
     "name": "stdout",
     "output_type": "stream",
     "text": [
      "   Customer_Value\n",
      "0     1562.848947\n"
     ]
    }
   ],
   "source": [
    "#Customer Segment #6. What is the Customer Lifetime Value based on 2022 purchasing data? (See SQL DB LITE)\n",
    "#In order to calcualte CLV, you first need to calculate Customer Value:\n",
    "#Calculate Average Order Value \n",
    "#Calculate Average Number of Purchases \n",
    "\n",
    "conn = sqlite3.connect('cl_shopper_trends.db')\n",
    "cursor = conn.cursor()\n",
    "\n",
    "customer_segment_6 = '''\n",
    "SELECT AVG(Purchase_Amount_USD) * AVG(Previous_Purchases) as Customer_Value\n",
    "FROM merged_data;\n",
    "'''\n",
    "\n",
    "'''\n",
    "SELECT SUM (Previous_Purchases) / SUM (Customer_ID)\n",
    "FROM merged data;\n",
    "\n",
    "'''\n",
    "\n",
    "\n",
    "\n",
    "customer_segment_6 = pd.read_sql(customer_segment_6, conn)\n",
    "print(customer_segment_6)\n",
    "\n",
    "#Calculate Customer Lifetime Value (CLV):\n",
    "#CLV = Customer Value * Avg Customer Lifespan "
   ]
  },
  {
   "cell_type": "code",
   "execution_count": 69,
   "metadata": {},
   "outputs": [
    {
     "name": "stdout",
     "output_type": "stream",
     "text": [
      "   Item_Purchased     tiktok_campaign  COUNT (tiktok_conversion)  \\\n",
      "0         Sandals       we missed you                         16   \n",
      "1          Hoodie      product launch                         31   \n",
      "2            Coat       cross product                         49   \n",
      "3         Sweater      abandoned cart                         20   \n",
      "4         T-shirt      abandoned cart                          6   \n",
      "5        Backpack      product launch                          8   \n",
      "6             Hat      product launch                         25   \n",
      "7           Pants  frequency purchase                         24   \n",
      "8           Shirt       cross product                        104   \n",
      "9          Jacket      abandoned cart                          2   \n",
      "10          Socks             welcome                         46   \n",
      "11           Coat             welcome                          6   \n",
      "12          Pants             welcome                         13   \n",
      "13            Hat       we missed you                         12   \n",
      "14         Shorts      product launch                         31   \n",
      "15          Shoes      product launch                          9   \n",
      "16        Sweater  frequency purchase                        137   \n",
      "17     Sunglasses  frequency purchase                         13   \n",
      "18          Dress  frequency purchase                         59   \n",
      "19          Jeans  frequency purchase                         41   \n",
      "20       Sneakers  frequency purchase                         81   \n",
      "21          Jeans       cross product                         21   \n",
      "22        Jewelry       cross product                         22   \n",
      "23         Blouse       cross product                         69   \n",
      "24         Jacket      abandoned cart                          1   \n",
      "25        Handbag             welcome                          7   \n",
      "26          Pants             welcome                         17   \n",
      "27          Shoes             welcome                         38   \n",
      "28          Scarf       we missed you                          5   \n",
      "29          Skirt       we missed you                          4   \n",
      "30        Sandals       we missed you                          8   \n",
      "31          Dress       we missed you                         10   \n",
      "32        Jewelry      product launch                         15   \n",
      "33          Skirt       cross product                         26   \n",
      "34           Coat      abandoned cart                         17   \n",
      "35          Scarf      abandoned cart                          7   \n",
      "\n",
      "        email_campaign  COUNT (email_conversion)  \n",
      "0              welcome                        16  \n",
      "1       abandoned cart                        31  \n",
      "2   frequency purchase                        49  \n",
      "3              welcome                        20  \n",
      "4       abandoned cart                         6  \n",
      "5        we missed you                         8  \n",
      "6   frequency purchase                        25  \n",
      "7       product launch                        24  \n",
      "8              welcome                       104  \n",
      "9        we missed you                         2  \n",
      "10             welcome                        46  \n",
      "11      product launch                         6  \n",
      "12  frequency purchase                        13  \n",
      "13  frequency purchase                        12  \n",
      "14             welcome                        31  \n",
      "15      product launch                         9  \n",
      "16             welcome                       137  \n",
      "17       we missed you                        13  \n",
      "18  frequency purchase                        59  \n",
      "19       cross product                        41  \n",
      "20      abandoned cart                        81  \n",
      "21       we missed you                        21  \n",
      "22      product launch                        22  \n",
      "23      abandoned cart                        69  \n",
      "24      product launch                         1  \n",
      "25       we missed you                         7  \n",
      "26       cross product                        17  \n",
      "27      abandoned cart                        38  \n",
      "28       we missed you                         5  \n",
      "29      product launch                         4  \n",
      "30       cross product                         8  \n",
      "31      abandoned cart                        10  \n",
      "32       cross product                        15  \n",
      "33       cross product                        26  \n",
      "34  frequency purchase                        17  \n",
      "35       cross product                         7  \n"
     ]
    }
   ],
   "source": [
    "#Product Information #1:  Which products had the highest conversion rate?\n",
    "\n",
    "conn = sqlite3.connect('cl_shopper_trends.db')\n",
    "cursor = conn.cursor()\n",
    "\n",
    "product_information_1 = '''\n",
    "SELECT Item_Purchased, tiktok_campaign, COUNT (tiktok_conversion), email_campaign, COUNT (email_conversion)\n",
    "FROM merged_data\n",
    "GROUP BY tiktok_campaign, email_campaign\n",
    "ORDER BY tiktok_conversion DESC, email_conversion DESC;\n",
    "'''\n",
    "\n",
    "product_information_1 = pd.read_sql(product_information_1, conn)\n",
    "print(product_information_1)"
   ]
  },
  {
   "cell_type": "code",
   "execution_count": 70,
   "metadata": {},
   "outputs": [
    {
     "name": "stdout",
     "output_type": "stream",
     "text": [
      "   Season     DESC\n",
      "0    Fall  15430.0\n",
      "1  Spring  15220.0\n",
      "2  Summer  14357.0\n",
      "3  Winter  14646.0\n"
     ]
    }
   ],
   "source": [
    "#Product Information #2 Total Sales Amount for seasonal clothing\n",
    "\n",
    "conn = sqlite3.connect('cl_shopper_trends.db')\n",
    "cursor = conn.cursor()\n",
    "\n",
    "product_information_2 = '''\n",
    "SELECT Season, Total (Purchase_Amount_USD) DESC\n",
    "FROM merged_data\n",
    "GROUP BY Season;\n",
    "'''\n",
    "\n",
    "product_information_2 = pd.read_sql(product_information_2, conn)\n",
    "print(product_information_2)"
   ]
  },
  {
   "cell_type": "code",
   "execution_count": 71,
   "metadata": {},
   "outputs": [
    {
     "name": "stdout",
     "output_type": "stream",
     "text": [
      "     email_campaign email_dates     tiktok_campaign tiktok_dates  \\\n",
      "0    abandoned cart     1/12/22       cross product       3/5/22   \n",
      "1    abandoned cart     1/12/22       we missed you      8/12/22   \n",
      "2    abandoned cart     1/13/22  frequency purchase      3/25/22   \n",
      "3    abandoned cart     1/14/22  frequency purchase       6/5/22   \n",
      "4    abandoned cart     1/19/22       cross product      3/21/22   \n",
      "..              ...         ...                 ...          ...   \n",
      "995         welcome     9/30/22       cross product      7/18/22   \n",
      "996         welcome     9/30/22       cross product      8/28/22   \n",
      "997         welcome     9/30/22       we missed you      10/3/22   \n",
      "998         welcome      9/6/22  frequency purchase      1/22/22   \n",
      "999         welcome      9/8/22       we missed you      10/9/22   \n",
      "\n",
      "     Total_Purchase_Amount  \n",
      "0                       60  \n",
      "1                       38  \n",
      "2                       89  \n",
      "3                       40  \n",
      "4                       82  \n",
      "..                     ...  \n",
      "995                     54  \n",
      "996                     84  \n",
      "997                     53  \n",
      "998                     47  \n",
      "999                     26  \n",
      "\n",
      "[1000 rows x 5 columns]\n"
     ]
    }
   ],
   "source": [
    "#Product Information #3: Total sales amount by month and marketing campaign\n",
    "#Find function for month \n",
    "\n",
    "conn = sqlite3.connect('cl_shopper_trends.db')\n",
    "cursor = conn.cursor()\n",
    "\n",
    "product_information_3 = '''\n",
    "SELECT\n",
    "    email_campaign,\n",
    "    email_dates,\n",
    "    tiktok_campaign,\n",
    "    tiktok_dates,\n",
    "    SUM(Purchase_Amount_USD) AS Total_Purchase_Amount\n",
    "FROM\n",
    "    merged_data\n",
    "GROUP BY\n",
    "    email_campaign, email_dates, tiktok_campaign, tiktok_dates;\n",
    "'''\n",
    "\n",
    "product_information_3 = pd.read_sql(product_information_3, conn)\n",
    "print(product_information_3)"
   ]
  },
  {
   "cell_type": "code",
   "execution_count": 72,
   "metadata": {},
   "outputs": [
    {
     "name": "stdout",
     "output_type": "stream",
     "text": [
      "   avg_tiktok_cpa  avg_email_cpa\n",
      "0         4.96912        5.11969\n"
     ]
    }
   ],
   "source": [
    "#Marketing ROI #1: Compare CPAs for Tik Tok vs. Email \n",
    "#Remove dollar sign and CAST to FLOAT\n",
    "\n",
    "conn = sqlite3.connect('cl_shopper_trends.db')\n",
    "cursor = conn.cursor()\n",
    "\n",
    "marketing_roi_1 = '''\n",
    "SELECT\n",
    "  AVG(CAST(REPLACE(tiktok_cpa, '$', '') AS FLOAT)) AS avg_tiktok_cpa,\n",
    "  AVG(CAST(REPLACE(email_cpa, '$', '') AS FLOAT)) AS avg_email_cpa\n",
    "FROM merged_data; \n",
    "'''\n",
    "\n",
    "marketing_roi_1 = pd.read_sql(marketing_roi_1, conn)\n",
    "print(marketing_roi_1)"
   ]
  },
  {
   "cell_type": "markdown",
   "metadata": {},
   "source": [
    "It looks like this e-commerce company had nearly equal CPAs across their two campaigns. In this instance, we want to focus on which campaigns had the highest sales or overall conversios."
   ]
  },
  {
   "cell_type": "code",
   "execution_count": 89,
   "metadata": {},
   "outputs": [
    {
     "name": "stdout",
     "output_type": "stream",
     "text": [
      "        email_campaign     tiktok_campaign  Conversion_Count\n",
      "0              welcome       cross product                28\n",
      "1              welcome  frequency purchase                28\n",
      "2   frequency purchase  frequency purchase                19\n",
      "3       abandoned cart       cross product                15\n",
      "4       abandoned cart  frequency purchase                12\n",
      "5        cross product  frequency purchase                10\n",
      "6              welcome             welcome                10\n",
      "7       abandoned cart      product launch                 9\n",
      "8   frequency purchase       cross product                 9\n",
      "9   frequency purchase      product launch                 9\n",
      "10             welcome      product launch                 9\n",
      "11      abandoned cart             welcome                 7\n",
      "12             welcome      abandoned cart                 7\n",
      "13       cross product       cross product                 6\n",
      "14  frequency purchase      abandoned cart                 4\n",
      "15      product launch  frequency purchase                 4\n",
      "16       we missed you       cross product                 4\n",
      "17      abandoned cart      abandoned cart                 3\n",
      "18       cross product      product launch                 3\n",
      "19  frequency purchase       we missed you                 3\n",
      "20      product launch       cross product                 3\n",
      "21      product launch      product launch                 3\n",
      "22             welcome       we missed you                 3\n",
      "23      abandoned cart       we missed you                 2\n",
      "24       cross product      abandoned cart                 2\n",
      "25       cross product       we missed you                 2\n",
      "26  frequency purchase             welcome                 2\n",
      "27       we missed you  frequency purchase                 2\n",
      "28       we missed you             welcome                 2\n",
      "29       cross product             welcome                 1\n",
      "30      product launch       we missed you                 1\n",
      "31       we missed you      product launch                 1\n"
     ]
    }
   ],
   "source": [
    "#Marketing ROI #2: Which marketing campaigns had the highest conversions?\n",
    "\n",
    "conn = sqlite3.connect('cl_shopper_trends.db')\n",
    "cursor = conn.cursor()\n",
    "\n",
    "marketing_roi_2 = '''\n",
    "SELECT\n",
    "email_campaign,\n",
    "tiktok_campaign,\n",
    "COUNT(*) AS Conversion_Count\n",
    "FROM\n",
    "merged_data\n",
    "WHERE\n",
    "email_conversion = TRUE AND tiktok_conversion = TRUE\n",
    "GROUP BY\n",
    "email_campaign, tiktok_campaign\n",
    "ORDER BY\n",
    "Conversion_Count DESC;\n",
    "'''\n",
    "\n",
    "marketing_roi_2 = pd.read_sql(marketing_roi_2, conn)\n",
    "print(marketing_roi_2)"
   ]
  },
  {
   "cell_type": "code",
   "execution_count": 91,
   "metadata": {},
   "outputs": [
    {
     "name": "stdout",
     "output_type": "stream",
     "text": [
      "         Location Customer_Segment  Segment_Count  Avg_TikTok_Conversion  \\\n",
      "0         Alabama       Adult Male             16               0.500000   \n",
      "1         Alabama       Young Male              6               0.333333   \n",
      "2          Alaska       Adult Male             14               0.285714   \n",
      "3          Alaska       Young Male              4               0.750000   \n",
      "4         Arizona       Adult Male             12               0.416667   \n",
      "..            ...              ...            ...                    ...   \n",
      "95  West Virginia       Young Male              8               0.625000   \n",
      "96      Wisconsin       Adult Male             11               0.272727   \n",
      "97      Wisconsin       Young Male              2               0.000000   \n",
      "98        Wyoming       Adult Male             15               0.400000   \n",
      "99        Wyoming       Young Male              5               0.800000   \n",
      "\n",
      "    Avg_Email_Conversion  \n",
      "0               0.625000  \n",
      "1               0.666667  \n",
      "2               0.500000  \n",
      "3               0.500000  \n",
      "4               0.750000  \n",
      "..                   ...  \n",
      "95              0.500000  \n",
      "96              0.636364  \n",
      "97              1.000000  \n",
      "98              0.666667  \n",
      "99              0.600000  \n",
      "\n",
      "[100 rows x 5 columns]\n"
     ]
    }
   ],
   "source": [
    "#Marketing ROI #3: Which demographic had the highest conversion rate?\n",
    "\n",
    "conn = sqlite3.connect('cl_shopper_trends.db')\n",
    "cursor = conn.cursor()\n",
    "\n",
    "marketing_roi_3 = '''\n",
    "SELECT\n",
    "    Location,\n",
    "    CASE\n",
    "        WHEN Age < 30 AND Gender = 'Female' THEN 'Young Female'\n",
    "        WHEN Age < 30 AND Gender = 'Male' THEN 'Young Male'\n",
    "        WHEN Age >= 30 AND Gender = 'Female' THEN 'Adult Female'\n",
    "        WHEN Age >= 30 AND Gender = 'Male' THEN 'Adult Male'\n",
    "        ELSE 'Other'\n",
    "    END AS Customer_Segment,\n",
    "    COUNT(CASE\n",
    "            WHEN Age < 30 AND Gender = 'Female' THEN 'Young Female'\n",
    "            WHEN Age < 30 AND Gender = 'Male' THEN 'Young Male'\n",
    "            WHEN Age >= 30 AND Gender = 'Female' THEN 'Adult Female'\n",
    "            WHEN Age >= 30 AND Gender = 'Male' THEN 'Adult Male'\n",
    "            ELSE 'Other'\n",
    "          END) AS Segment_Count,\n",
    "    AVG(tiktok_conversion) AS Avg_TikTok_Conversion,\n",
    "    AVG(email_conversion) AS Avg_Email_Conversion\n",
    "FROM\n",
    "    merged_data\n",
    "GROUP BY\n",
    "    Location, Customer_Segment;\n",
    "\n",
    "'''\n",
    "\n",
    "marketing_roi_3 = pd.read_sql(marketing_roi_3, conn)\n",
    "print(marketing_roi_3)"
   ]
  }
 ],
 "metadata": {
  "kernelspec": {
   "display_name": "Python 3",
   "language": "python",
   "name": "python3"
  },
  "language_info": {
   "codemirror_mode": {
    "name": "ipython",
    "version": 3
   },
   "file_extension": ".py",
   "mimetype": "text/x-python",
   "name": "python",
   "nbconvert_exporter": "python",
   "pygments_lexer": "ipython3",
   "version": "3.11.4"
  },
  "orig_nbformat": 4
 },
 "nbformat": 4,
 "nbformat_minor": 2
}
