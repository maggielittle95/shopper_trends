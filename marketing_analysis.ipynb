{
 "cells": [
  {
   "cell_type": "markdown",
   "metadata": {},
   "source": [
    "It looks like the data was in pretty good shape from your last file 'data_cleaning.ipynb.' Now we should move on to answering questions the marketing team has for you in your interview: Customer Segments, Product Information, and Marketing Return on Investment."
   ]
  },
  {
   "cell_type": "markdown",
   "metadata": {},
   "source": [
    "Customer Segment Questions:\n",
    "1. Segment customers based on demographic data (age, gender, location)\n",
    "2. Which demographics represent High Frequency Customers? \n",
    "3. Which demographics represent Low Frequency Customers?\n",
    "4. HF vs. LF customers more likely to use a discount code?\n",
    "5. Average Order Value from High Frequency Customers, AOV for Low Frequency Customers\n",
    "6. What is the Customer Lifetime Value based on 2022 purchasing data?\n",
    "\n",
    "Product Information Questions:\n",
    "1. Total Sales by Product Type for 2022 \n",
    "2. Which categories have the highest conversion rate? Which products have the highest conversion rate?\n",
    "3. Top seasonality by total sales \n",
    "4. Total sales amount by month and marketing campaign (Which marketing campaigns had the highest total sales?)\n",
    "\n",
    "Marketing Return on Investment:\n",
    "1. Compare CPAs for Tik Tok vs. Email \n",
    "2. Which marketing campaigns had the highest conversions?\n",
    "3. Which demographic had the highest conversion rate?"
   ]
  },
  {
   "cell_type": "markdown",
   "metadata": {},
   "source": [
    "You start exploring their customer base via customer demographics - a good place to start would be age and gender. "
   ]
  },
  {
   "cell_type": "code",
   "execution_count": null,
   "metadata": {
    "vscode": {
     "languageId": "sql"
    }
   },
   "outputs": [],
   "source": [
    "--Customer Segment #1:\n",
    "SELECT\n",
    "Location,\n",
    "CASE\n",
    "WHEN Age < 30 AND Gender = 'Female' THEN 'Young Female'\n",
    " WHEN Age < 30 AND Gender = 'Male' THEN 'Young Male'\n",
    "WHEN Age >= 30 AND Gender = 'Female' THEN 'Adult Female'\n",
    "WHEN Age >= 30 AND Gender = 'Male' THEN 'Adult Male'\n",
    "ELSE 'Other'\n",
    "END AS Customer_Segment,\n",
    "COUNT(*) AS Segment_Count\n",
    "FROM shopping_trends\n",
    "GROUP BY Location, Customer_Segment\n",
    "ORDER BY Segment_Count DESC;"
   ]
  },
  {
   "cell_type": "markdown",
   "metadata": {},
   "source": [
    "Great, so far it looks like our top customer segments for 2022 were Adult Males. \n",
    "By using data from mock_data, let's see if we can categorize our customer segments into High Frequency and Low Frequency segments. "
   ]
  },
  {
   "cell_type": "code",
   "execution_count": null,
   "metadata": {
    "vscode": {
     "languageId": "sql"
    }
   },
   "outputs": [],
   "source": [
    "--Customer Segment #2:\n",
    "SELECT\n",
    "    Location,\n",
    "    CASE\n",
    "        WHEN Age < 30 AND Gender = 'Female' THEN 'Young Female'\n",
    "        WHEN Age < 30 AND Gender = 'Male' THEN 'Young Male'\n",
    "        WHEN Age >= 30 AND Gender = 'Female' THEN 'Adult Female'\n",
    "        WHEN Age >= 30 AND Gender = 'Male' THEN 'Adult Male'\n",
    "        ELSE 'Other'\n",
    "    END AS Customer_Segment,\n",
    "    COUNT(*) AS Segment_Count\n",
    "FROM shopping_trends\n",
    "WHERE Frequency_of_Purchases IN (\"Weekly\", \"Biweekly\", \"Monthly\") \n",
    "GROUP BY Location, Customer_Segment\n",
    "ORDER BY Segment_Count DESC;"
   ]
  },
  {
   "cell_type": "code",
   "execution_count": null,
   "metadata": {
    "vscode": {
     "languageId": "sql"
    }
   },
   "outputs": [],
   "source": [
    "--Customer Segment #3:\n",
    "SELECT\n",
    "    Location,\n",
    "    CASE\n",
    "        WHEN Age < 30 AND Gender = 'Female' THEN 'Young Female'\n",
    "        WHEN Age < 30 AND Gender = 'Male' THEN 'Young Male'\n",
    "        WHEN Age >= 30 AND Gender = 'Female' THEN 'Adult Female'\n",
    "        WHEN Age >= 30 AND Gender = 'Male' THEN 'Adult Male'\n",
    "        ELSE 'Other'\n",
    "    END AS Customer_Segment,\n",
    "    COUNT(*) AS Segment_Count\n",
    "FROM shopping_trends\n",
    "WHERE Frequency_of_Purchases IN (\"Quarterly\",\"Annually\") \n",
    "GROUP BY Location, Customer_Segment\n",
    "ORDER BY Segment_Count DESC;"
   ]
  },
  {
   "cell_type": "code",
   "execution_count": null,
   "metadata": {
    "vscode": {
     "languageId": "sql"
    }
   },
   "outputs": [],
   "source": [
    "--Customer Segment #4:\n",
    "--Are High Frequency Customers or Low Frequency Customers more likely to use a discount code?\n",
    "--If High Frequency then Frequency_of_Purchases = weekly, biweekly, monthly;  if Low Frequency then Frequency_of_Purchases = quarterly, yearly;SELECT Frequency_of_Purchases, Discount_Applied\n",
    "SELECT Frequency_of_Purchases, Discount_Applied\n",
    "FROM merged_data\n",
    "WHERE Frequency_of_Purchases IN (\"quarterly\", \"annually\");"
   ]
  },
  {
   "cell_type": "code",
   "execution_count": null,
   "metadata": {
    "vscode": {
     "languageId": "sql"
    }
   },
   "outputs": [],
   "source": [
    "-- Customer Segment #5: Average Order Value from High Frequency Customers \n",
    "SELECT Frequency_of_Purchases, AVG (Purchase_Amount_USD)\n",
    "FROM merged_data\n",
    "GROUP BY Frequency_of_Purchases;"
   ]
  },
  {
   "cell_type": "code",
   "execution_count": null,
   "metadata": {
    "vscode": {
     "languageId": "sql"
    }
   },
   "outputs": [],
   "source": [
    "--Customer Segment #6. What is the Customer Lifetime Value based on 2022 purchasing data? (See SQL DB LITE)\n",
    "-- In order to calcualte CLV, you first need to calculate Customer Value:\n",
    "-- Calculate Average Order Value from SQL no.5 \n",
    "--Calculate Average Number of Purchases \n",
    "--Calculate Customer Lifetime Value (CLV):\n",
    "-- CLV = Customer Value * Avg Customer Lifespan "
   ]
  },
  {
   "cell_type": "code",
   "execution_count": null,
   "metadata": {
    "vscode": {
     "languageId": "sql"
    }
   },
   "outputs": [],
   "source": [
    "--Product Information #1: Total Sales by Product Type for 2022 \n",
    "SELECT Purchase_Amount_USD, Item_Purchased\n",
    "FROM merged_data\n",
    "GROUP BY Item_Purchased\n",
    "ORDER BY Purchase_Amount_USD DESC;\n",
    "-- count statement?"
   ]
  },
  {
   "cell_type": "code",
   "execution_count": null,
   "metadata": {
    "vscode": {
     "languageId": "sql"
    }
   },
   "outputs": [],
   "source": [
    "--Product Information #2:  Which products had the highest conversion rate?\n",
    "SELECT Item_Purchased, tiktok_campaign, COUNT (tiktok_conversion), email_campaign, COUNT (email_conversion)\n",
    "FROM merged_data\n",
    "GROUP BY tiktok_campaign, email_campaign\n",
    "ORDER BY tiktok_conversion DESC, email_conversion DESC;"
   ]
  },
  {
   "cell_type": "code",
   "execution_count": null,
   "metadata": {
    "vscode": {
     "languageId": "sql"
    }
   },
   "outputs": [],
   "source": [
    "-- Product Information #3 Total Sales Amount for seasonal clothing\n",
    "SELECT Season, Total (Purchase_Amount_USD) DESC\n",
    "FROM merged_data\n",
    "GROUP BY Season;"
   ]
  },
  {
   "cell_type": "code",
   "execution_count": null,
   "metadata": {
    "vscode": {
     "languageId": "sql"
    }
   },
   "outputs": [],
   "source": [
    "--Product Information #4: Total sales amount by month and marketing campaign\n",
    "SELECT email_campaign, email_dates, tiktok_campaign, tiktok_dates, Purchase_Amount_USD\n",
    "FROM merged_data\n",
    "WHERE MONTH (email_dates, tiktok_dates)\n",
    "GROUP BY MONTH (email_dates, tiktok_dates);"
   ]
  },
  {
   "cell_type": "code",
   "execution_count": null,
   "metadata": {
    "vscode": {
     "languageId": "sql"
    }
   },
   "outputs": [],
   "source": [
    "--Marketing ROI #1: Compare CPAs for Tik Tok vs. Email \n",
    "--Remove dollar sign and CAST to FLOAT\n",
    "SELECT\n",
    "  AVG(CAST(REPLACE(tiktok_cpa, '$', '') AS FLOAT)) AS avg_tiktok_cpa,\n",
    "  AVG(CAST(REPLACE(email_cpa, '$', '') AS FLOAT)) AS avg_email_cpa\n",
    "FROM merged_data;"
   ]
  },
  {
   "cell_type": "code",
   "execution_count": null,
   "metadata": {
    "vscode": {
     "languageId": "sql"
    }
   },
   "outputs": [],
   "source": [
    "--Marketing ROI #2: Which marketing campaigns had the highest conversions?\n",
    "SELECT\n",
    "  email_campaign,\n",
    "  tiktok_campaign,\n",
    "  CASE\n",
    "    WHEN MAX(email_conversion) > MAX(tiktok_conversion) THEN 'Email'\n",
    "    WHEN MAX(email_conversion) < MAX(tiktok_conversion) THEN 'TikTok'\n",
    "    ELSE 'Equal'  -- If they are equal\n",
    "  END AS higher_conversion_campaign\n",
    "FROM merged_data\n",
    "GROUP BY email_campaign, tiktok_campaign;"
   ]
  },
  {
   "cell_type": "code",
   "execution_count": 19,
   "metadata": {
    "vscode": {
     "languageId": "sql"
    }
   },
   "outputs": [
    {
     "ename": "SyntaxError",
     "evalue": "invalid syntax (2247389623.py, line 4)",
     "output_type": "error",
     "traceback": [
      "\u001b[0;36m  Cell \u001b[0;32mIn[19], line 4\u001b[0;36m\u001b[0m\n\u001b[0;31m    WHEN Age < 30 AND Gender = 'Female' THEN 'Young Female'\u001b[0m\n\u001b[0m         ^\u001b[0m\n\u001b[0;31mSyntaxError\u001b[0m\u001b[0;31m:\u001b[0m invalid syntax\n"
     ]
    }
   ],
   "source": [
    "---- Marketing ROI #3: Which demographic had the highest conversion rate?\n",
    "SELECT\n",
    "Location,\n",
    "CASE\n",
    "WHEN Age < 30 AND Gender = 'Female' THEN 'Young Female'\n",
    "WHEN Age < 30 AND Gender = 'Male' THEN 'Young Male'\n",
    "WHEN Age >= 30 AND Gender = 'Female' THEN 'Adult Female'\n",
    "WHEN Age >= 30 AND Gender = 'Male' THEN 'Adult Male'\n",
    "ELSE 'Other'\n",
    "END AS Customer_Segment,\n",
    "    COUNT(*) AS Segment_Count,\n",
    "    AVG(tiktok_conversion) AS Avg_TikTok_Conversion,\n",
    "    AVG(email_conversion) AS Avg_Email_Conversion\n",
    "FROM\n",
    "    merged_data\n",
    "GROUP BY\n",
    "    Location, Customer_Segment;"
   ]
  }
 ],
 "metadata": {
  "kernelspec": {
   "display_name": "Python 3",
   "language": "python",
   "name": "python3"
  },
  "language_info": {
   "codemirror_mode": {
    "name": "ipython",
    "version": 3
   },
   "file_extension": ".py",
   "mimetype": "text/x-python",
   "name": "python",
   "nbconvert_exporter": "python",
   "pygments_lexer": "ipython3",
   "version": "3.11.4"
  },
  "orig_nbformat": 4
 },
 "nbformat": 4,
 "nbformat_minor": 2
}
